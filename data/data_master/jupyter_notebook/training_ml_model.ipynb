{
 "cells": [
  {
   "cell_type": "code",
   "execution_count": 1,
   "id": "0fef50b6",
   "metadata": {},
   "outputs": [],
   "source": [
    "from pyspark.sql import SparkSession\n",
    "from pyspark.ml import Pipeline\n",
    "from pyspark.ml.feature import CountVectorizer,StringIndexer, RegexTokenizer,StopWordsRemover, IDF\n",
    "from pyspark.ml.feature import CountVectorizerModel, IDFModel, StringIndexerModel\n",
    "from pyspark.sql.functions import col, udf,regexp_replace,isnull\n",
    "from pyspark.sql.types import StringType,IntegerType\n",
    "from pyspark.ml.classification import NaiveBayes, RandomForestClassifier, LogisticRegression, DecisionTreeClassifier, GBTClassifier\n",
    "from pyspark.ml.classification import NaiveBayesModel, RandomForestClassificationModel, LogisticRegressionModel, DecisionTreeClassificationModel, GBTClassificationModel\n",
    "from pyspark.ml.evaluation import MulticlassClassificationEvaluator\n",
    "import string\n",
    "from pyspark.sql.functions import concat,concat_ws"
   ]
  },
  {
   "cell_type": "code",
   "execution_count": 5,
   "id": "85ab8828",
   "metadata": {},
   "outputs": [
    {
     "name": "stderr",
     "output_type": "stream",
     "text": [
      "                                                                                \r"
     ]
    }
   ],
   "source": [
    "model_path = \"/data/model/\"\n",
    "train = spark.read.format(\"parquet\").option(\"inferSchema\", True).option(\"header\", True).load(\"/data/train/tf_idf_train\")\n",
    "validate = spark.read.format(\"parquet\").option(\"inferSchema\", True).option(\"header\", True).load(\"/data/train/tf_idf_valid\")"
   ]
  },
  {
   "cell_type": "markdown",
   "id": "90d5f851",
   "metadata": {},
   "source": [
    "### Random Forest"
   ]
  },
  {
   "cell_type": "code",
   "execution_count": 5,
   "id": "61fbc556",
   "metadata": {},
   "outputs": [
    {
     "name": "stderr",
     "output_type": "stream",
     "text": [
      "                                                                                \r"
     ]
    }
   ],
   "source": [
    "rf = RandomForestClassifier(featuresCol = 'tf_idf_features', labelCol = 'categoryIndex')\n",
    "rfModel = rf.fit(train)"
   ]
  },
  {
   "cell_type": "code",
   "execution_count": 3,
   "id": "90ba9bd5",
   "metadata": {},
   "outputs": [],
   "source": [
    "rf_save = model_path + \"rf_model\"\n",
    "rfModel.save(rf_save)"
   ]
  },
  {
   "cell_type": "code",
   "execution_count": 7,
   "id": "cf9b77d5",
   "metadata": {},
   "outputs": [
    {
     "name": "stderr",
     "output_type": "stream",
     "text": [
      "                                                                                \r"
     ]
    },
    {
     "name": "stdout",
     "output_type": "stream",
     "text": [
      "+--------------------+-------------+--------------------+--------------------+----------+\n",
      "|     tf_idf_features|categoryIndex|       rawPrediction|         probability|prediction|\n",
      "+--------------------+-------------+--------------------+--------------------+----------+\n",
      "|(262144,[0,1,2,3,...|          6.0|[2.70147797584139...|[0.13507389879206...|       6.0|\n",
      "|(262144,[0,1,2,3,...|          0.0|[3.71300106617375...|[0.18565005330868...|       0.0|\n",
      "|(262144,[0,1,2,3,...|          0.0|[3.21400412377093...|[0.16070020618854...|       6.0|\n",
      "|(262144,[0,1,2,3,...|          0.0|[2.95372909216025...|[0.14768645460801...|       0.0|\n",
      "|(262144,[0,1,2,3,...|          5.0|[3.10380177943187...|[0.15519008897159...|       0.0|\n",
      "+--------------------+-------------+--------------------+--------------------+----------+\n",
      "only showing top 5 rows\n",
      "\n"
     ]
    }
   ],
   "source": [
    "rfModel = RandomForestClassificationModel.load(rf_save)\n",
    "rf_predictions = rfModel.transform(validate)\n",
    "rf_predictions.show(5)"
   ]
  },
  {
   "cell_type": "code",
   "execution_count": 8,
   "id": "a4664c9d",
   "metadata": {},
   "outputs": [
    {
     "name": "stderr",
     "output_type": "stream",
     "text": [
      "[Stage 18:=============================>                            (1 + 1) / 2]"
     ]
    },
    {
     "name": "stdout",
     "output_type": "stream",
     "text": [
      "Accuracy of Random Forest is = 0.300404\n"
     ]
    },
    {
     "name": "stderr",
     "output_type": "stream",
     "text": [
      "                                                                                \r"
     ]
    }
   ],
   "source": [
    "evaluator = MulticlassClassificationEvaluator(labelCol=\"categoryIndex\", predictionCol=\"prediction\", metricName=\"accuracy\")\n",
    "rf_accuracy = evaluator.evaluate(rf_predictions)\n",
    "print(\"Accuracy of Random Forest is = %g\"% (rf_accuracy))"
   ]
  },
  {
   "cell_type": "code",
   "execution_count": 10,
   "id": "46f5e94c",
   "metadata": {},
   "outputs": [
    {
     "name": "stderr",
     "output_type": "stream",
     "text": [
      "[Stage 30:=============================>                            (1 + 1) / 2]"
     ]
    },
    {
     "name": "stdout",
     "output_type": "stream",
     "text": [
      "F1 of Random Forest is = 0.208187\n"
     ]
    },
    {
     "name": "stderr",
     "output_type": "stream",
     "text": [
      "                                                                                \r"
     ]
    }
   ],
   "source": [
    "evaluator = MulticlassClassificationEvaluator(labelCol=\"categoryIndex\", predictionCol=\"prediction\", metricName=\"f1\")\n",
    "rf_f1 = evaluator.evaluate(rf_predictions)\n",
    "print(\"F1 of Random Forest is = %g\"% (rf_f1))"
   ]
  },
  {
   "cell_type": "markdown",
   "id": "d7f0db8a",
   "metadata": {},
   "source": [
    "### Decision Tree"
   ]
  },
  {
   "cell_type": "code",
   "execution_count": 11,
   "id": "982f1cd5",
   "metadata": {},
   "outputs": [],
   "source": [
    "dt = DecisionTreeClassifier(featuresCol = 'tf_idf_features', labelCol = 'categoryIndex', maxDepth = 3)\n",
    "dtModel = dt.fit(train)"
   ]
  },
  {
   "cell_type": "code",
   "execution_count": 13,
   "id": "96d1d0ef",
   "metadata": {},
   "outputs": [],
   "source": [
    "dt_save = model_path + \"dt_model\"\n",
    "dtModel.save(dt_save)"
   ]
  },
  {
   "cell_type": "code",
   "execution_count": 14,
   "id": "23bdd04c",
   "metadata": {},
   "outputs": [
    {
     "name": "stdout",
     "output_type": "stream",
     "text": [
      "+--------------------+-------------+--------------------+--------------------+----------+\n",
      "|     tf_idf_features|categoryIndex|       rawPrediction|         probability|prediction|\n",
      "+--------------------+-------------+--------------------+--------------------+----------+\n",
      "|(262144,[0,1,2,3,...|          6.0|[2374.0,26.0,790....|[0.14384391662627...|       6.0|\n",
      "|(262144,[0,1,2,3,...|          0.0|[32353.0,3672.0,1...|[0.23033931851514...|       0.0|\n",
      "|(262144,[0,1,2,3,...|          0.0|[2374.0,26.0,790....|[0.14384391662627...|       6.0|\n",
      "|(262144,[0,1,2,3,...|          0.0|[2374.0,26.0,790....|[0.14384391662627...|       6.0|\n",
      "|(262144,[0,1,2,3,...|          5.0|[32353.0,3672.0,1...|[0.23033931851514...|       0.0|\n",
      "+--------------------+-------------+--------------------+--------------------+----------+\n",
      "only showing top 5 rows\n",
      "\n"
     ]
    }
   ],
   "source": [
    "dtModel = DecisionTreeClassificationModel.load(dt_save)\n",
    "dt_predictions = dtModel.transform(validate)\n",
    "dt_predictions.show(5)"
   ]
  },
  {
   "cell_type": "code",
   "execution_count": 15,
   "id": "3e9991bf-5b64-46dd-aed5-eeb9eaf1be65",
   "metadata": {},
   "outputs": [
    {
     "name": "stderr",
     "output_type": "stream",
     "text": [
      "[Stage 38:=============================>                            (1 + 1) / 2]"
     ]
    },
    {
     "name": "stdout",
     "output_type": "stream",
     "text": [
      "Accuracy of Decision Tree is = 0.344771\n"
     ]
    },
    {
     "name": "stderr",
     "output_type": "stream",
     "text": [
      "                                                                                \r"
     ]
    }
   ],
   "source": [
    "evaluator = MulticlassClassificationEvaluator(labelCol=\"categoryIndex\", predictionCol=\"prediction\", metricName=\"accuracy\")\n",
    "dt_accuracy = evaluator.evaluate(dt_predictions)\n",
    "print(\"Accuracy of Decision Tree is = %g\"% (dt_accuracy))"
   ]
  },
  {
   "cell_type": "code",
   "execution_count": 16,
   "id": "1b5bda95-f432-43ef-8daa-114305ed9592",
   "metadata": {},
   "outputs": [
    {
     "name": "stderr",
     "output_type": "stream",
     "text": [
      "[Stage 44:=============================>                            (1 + 1) / 2]"
     ]
    },
    {
     "name": "stdout",
     "output_type": "stream",
     "text": [
      "F1 of Decision Tree is = 0.252727\n"
     ]
    },
    {
     "name": "stderr",
     "output_type": "stream",
     "text": [
      "                                                                                \r"
     ]
    }
   ],
   "source": [
    "evaluator = MulticlassClassificationEvaluator(labelCol=\"categoryIndex\", predictionCol=\"prediction\", metricName=\"f1\")\n",
    "dt_f1 = evaluator.evaluate(dt_predictions)\n",
    "print(\"F1 of Decision Tree is = %g\"% (dt_f1))"
   ]
  },
  {
   "cell_type": "markdown",
   "id": "837651ae",
   "metadata": {},
   "source": [
    "### Logistic Regression"
   ]
  },
  {
   "cell_type": "code",
   "execution_count": 3,
   "id": "12858d0c",
   "metadata": {
    "scrolled": false
   },
   "outputs": [
    {
     "name": "stderr",
     "output_type": "stream",
     "text": [
      "2022-07-12 09:13:51,260 WARN netlib.BLAS: Failed to load implementation from: com.github.fommil.netlib.NativeSystemBLAS\n",
      "2022-07-12 09:13:51,261 WARN netlib.BLAS: Failed to load implementation from: com.github.fommil.netlib.NativeRefBLAS\n",
      "                                                                                \r"
     ]
    }
   ],
   "source": [
    "lr_save = model_path + \"lr_model\"\n",
    "lr = LogisticRegression(labelCol=\"categoryIndex\", featuresCol=\"tf_idf_features\", maxIter=10)\n",
    "lrModel = lr.fit(train)"
   ]
  },
  {
   "cell_type": "code",
   "execution_count": 4,
   "id": "963626ec-9c3d-4585-9ef4-fff90116d4b9",
   "metadata": {},
   "outputs": [
    {
     "name": "stderr",
     "output_type": "stream",
     "text": [
      "2022-07-12 09:15:28,056 WARN scheduler.TaskSetManager: Stage 27 contains a task of very large size (48081 KB). The maximum recommended task size is 100 KB.\n",
      "                                                                                \r"
     ]
    }
   ],
   "source": [
    "lrModel.save(lr_save)"
   ]
  },
  {
   "cell_type": "code",
   "execution_count": 5,
   "id": "cf93426f",
   "metadata": {},
   "outputs": [
    {
     "name": "stderr",
     "output_type": "stream",
     "text": [
      "                                                                                \r"
     ]
    },
    {
     "name": "stdout",
     "output_type": "stream",
     "text": [
      "+--------------------+-------------+--------------------+--------------------+----------+\n",
      "|     tf_idf_features|categoryIndex|       rawPrediction|         probability|prediction|\n",
      "+--------------------+-------------+--------------------+--------------------+----------+\n",
      "|(262144,[0,1,2,3,...|          6.0|[47.3172670847114...|[1.14598360486372...|       6.0|\n",
      "|(262144,[0,1,2,3,...|          0.0|[15.8609794101976...|[0.99836134720835...|       0.0|\n",
      "|(262144,[0,1,2,3,...|          0.0|[25.6044959062234...|[0.99999987517797...|       0.0|\n",
      "|(262144,[0,1,2,3,...|          0.0|[23.9841190843060...|[4.05183770238990...|      17.0|\n",
      "|(262144,[0,1,2,3,...|          5.0|[-0.3161508569837...|[4.79096324255021...|      11.0|\n",
      "+--------------------+-------------+--------------------+--------------------+----------+\n",
      "only showing top 5 rows\n",
      "\n"
     ]
    },
    {
     "name": "stderr",
     "output_type": "stream",
     "text": [
      "\r",
      "[Stage 34:==============>                                           (1 + 3) / 4]\r",
      "                                                                                \r"
     ]
    }
   ],
   "source": [
    "lrModel = LogisticRegressionModel.load(lr_save)\n",
    "lr_predictions = lrModel.transform(validate)\n",
    "lr_predictions.show(5)"
   ]
  },
  {
   "cell_type": "code",
   "execution_count": 6,
   "id": "e68c2165",
   "metadata": {},
   "outputs": [
    {
     "name": "stderr",
     "output_type": "stream",
     "text": [
      "[Stage 37:==================================================>       (7 + 1) / 8]"
     ]
    },
    {
     "name": "stdout",
     "output_type": "stream",
     "text": [
      "Accuracy of Logistic Regression is = 0.815551\n"
     ]
    },
    {
     "name": "stderr",
     "output_type": "stream",
     "text": [
      "\r",
      "                                                                                \r"
     ]
    }
   ],
   "source": [
    "evaluator = MulticlassClassificationEvaluator(labelCol=\"categoryIndex\", predictionCol=\"prediction\", metricName=\"accuracy\")\n",
    "lr_accuracy = evaluator.evaluate(lr_predictions)\n",
    "print(\"Accuracy of Logistic Regression is = %g\"% (lr_accuracy))"
   ]
  },
  {
   "cell_type": "code",
   "execution_count": 7,
   "id": "4e816132",
   "metadata": {},
   "outputs": [
    {
     "name": "stderr",
     "output_type": "stream",
     "text": [
      "[Stage 43:==================================================>       (7 + 1) / 8]"
     ]
    },
    {
     "name": "stdout",
     "output_type": "stream",
     "text": [
      "F1 of Logistic Regression is = 0.812805\n"
     ]
    },
    {
     "name": "stderr",
     "output_type": "stream",
     "text": [
      "\r",
      "                                                                                \r"
     ]
    }
   ],
   "source": [
    "evaluator = MulticlassClassificationEvaluator(labelCol=\"categoryIndex\", predictionCol=\"prediction\", metricName=\"f1\")\n",
    "lr_f1 = evaluator.evaluate(lr_predictions)\n",
    "print(\"F1 of Logistic Regression is = %g\"% (lr_f1))"
   ]
  },
  {
   "cell_type": "code",
   "execution_count": 6,
   "id": "a4f15251",
   "metadata": {},
   "outputs": [
    {
     "name": "stderr",
     "output_type": "stream",
     "text": [
      "[Stage 16:>                                                         (0 + 1) / 1]"
     ]
    },
    {
     "name": "stdout",
     "output_type": "stream",
     "text": [
      "+--------------------+--------+-------------+--------------------+--------------------+--------------------+--------------------+--------------------+--------------------+--------------------+----------+\n",
      "|        fullContents|Category|categoryIndex|            only_str|         only_letter|               words|            features|     tf_idf_features|       rawPrediction|         probability|prediction|\n",
      "+--------------------+--------+-------------+--------------------+--------------------+--------------------+--------------------+--------------------+--------------------+--------------------+----------+\n",
      "|Hỗ trợ người lao ...| Thời sự|          8.0|Hỗ trợ người lao ...|Hỗ trợ người lao ...|[hỗ, trợ, người, ...|(262144,[0,1,2,3,...|(262144,[0,1,2,3,...|[2.41615323401068...|[1.35525323396821...|       8.0|\n",
      "|Đưa Hải Phòng trở...| Thời sự|          8.0|Đưa Hải Phòng trở...|Đưa Hải Phòng trở...|[đưa, hải, phòng,...|(262144,[0,1,2,3,...|(262144,[0,1,2,3,...|[3.81709821665486...|[8.48015546487255...|       8.0|\n",
      "|Lần đầu tiên Bến ...| Thời sự|          8.0|Lần đầu tiên Bến ...|Lần đầu tiên Bến ...|[lần, đầu, tiên, ...|(262144,[0,1,2,3,...|(262144,[0,1,2,3,...|[5.55339686266071...|[0.08235876395962...|       8.0|\n",
      "|Ninh Thuận có tân...| Thời sự|          8.0|Ninh Thuận có tân...|Ninh Thuận có tân...|[ninh, thuận, có,...|(262144,[0,2,3,5,...|(262144,[0,2,3,5,...|[4.34847417099689...|[0.10030145459250...|       8.0|\n",
      "|Báo cáo Chính phủ...| Thời sự|          8.0|Báo cáo Chính phủ...|Báo cáo Chính phủ...|[báo, cáo, chính,...|(262144,[0,1,2,3,...|(262144,[0,1,2,3,...|[4.51202802231729...|[5.40367143570125...|       8.0|\n",
      "+--------------------+--------+-------------+--------------------+--------------------+--------------------+--------------------+--------------------+--------------------+--------------------+----------+\n",
      "only showing top 5 rows\n",
      "\n"
     ]
    },
    {
     "name": "stderr",
     "output_type": "stream",
     "text": [
      "\r",
      "                                                                                \r"
     ]
    }
   ],
   "source": [
    "test_df = spark.read.format(\"csv\").option(\"inferSchema\", True).option(\"header\", True).option(\"delimiter\",\"\\t\").load(\"/data/test/test_raw\")\n",
    "indexer = StringIndexerModel.load(model_path + \"string_indexer\")\n",
    "indexed = indexer.transform(test_df)\n",
    "\n",
    "fullContents = indexed.select(concat_ws(' ', indexed.Title, indexed.Summary, indexed.Contents).alias(\"fullContents\"), \"Category\", \"categoryIndex\")\n",
    "only_str = fullContents.withColumn(\"only_str\",regexp_replace(col('fullContents'), '\\d+|“|”', ''))\n",
    "only_letter = only_str.withColumn(\"only_letter\",regexp_replace(col('only_str'), '\\\\p{Punct}', '')) \n",
    "regex_tokenizer = RegexTokenizer(inputCol=\"only_letter\", outputCol=\"words\")\n",
    "raw_words = regex_tokenizer.transform(only_letter)\n",
    "\n",
    "loadedCv = CountVectorizerModel.load(model_path + \"/count_vectorizer\")\n",
    "countVectorizer_train = loadedCv.transform(raw_words)\n",
    "idfModel = IDFModel.load(model_path + \"/idf\")\n",
    "tf_idf_test = idfModel.transform(countVectorizer_train)\n",
    "\n",
    "lr_save = model_path + \"lr_model\"\n",
    "lrModel = LogisticRegressionModel.load(lr_save)\n",
    "lr_predictions = lrModel.transform(tf_idf_test)\n",
    "lr_predictions.show(5)"
   ]
  },
  {
   "cell_type": "code",
   "execution_count": 7,
   "id": "adbd2df1",
   "metadata": {},
   "outputs": [
    {
     "name": "stderr",
     "output_type": "stream",
     "text": [
      "[Stage 19:=============================>                            (1 + 1) / 2]"
     ]
    },
    {
     "name": "stdout",
     "output_type": "stream",
     "text": [
      "Accuracy of Logistic Regression in test set is = 0.75917\n"
     ]
    },
    {
     "name": "stderr",
     "output_type": "stream",
     "text": [
      "\r",
      "                                                                                \r"
     ]
    }
   ],
   "source": [
    "evaluator = MulticlassClassificationEvaluator(labelCol=\"categoryIndex\", predictionCol=\"prediction\", metricName=\"accuracy\")\n",
    "lr_accuracy = evaluator.evaluate(lr_predictions)\n",
    "print(\"Accuracy of Logistic Regression in test set is = %g\"% (lr_accuracy))"
   ]
  },
  {
   "cell_type": "code",
   "execution_count": 8,
   "id": "a052faa2",
   "metadata": {},
   "outputs": [
    {
     "name": "stderr",
     "output_type": "stream",
     "text": [
      "[Stage 25:=============================>                            (1 + 1) / 2]"
     ]
    },
    {
     "name": "stdout",
     "output_type": "stream",
     "text": [
      "F1 of Logistic Regression in test set is = 0.755934\n"
     ]
    },
    {
     "name": "stderr",
     "output_type": "stream",
     "text": [
      "\r",
      "                                                                                \r"
     ]
    }
   ],
   "source": [
    "evaluator = MulticlassClassificationEvaluator(labelCol=\"categoryIndex\", predictionCol=\"prediction\", metricName=\"f1\")\n",
    "lr_f1 = evaluator.evaluate(lr_predictions)\n",
    "print(\"F1 of Logistic Regression in test set is = %g\"% (lr_f1))"
   ]
  },
  {
   "cell_type": "code",
   "execution_count": null,
   "id": "7716fad8",
   "metadata": {},
   "outputs": [],
   "source": []
  }
 ],
 "metadata": {
  "kernelspec": {
   "display_name": "Python 3 (ipykernel)",
   "language": "python",
   "name": "python3"
  },
  "language_info": {
   "codemirror_mode": {
    "name": "ipython",
    "version": 3
   },
   "file_extension": ".py",
   "mimetype": "text/x-python",
   "name": "python",
   "nbconvert_exporter": "python",
   "pygments_lexer": "ipython3",
   "version": "3.7.10"
  }
 },
 "nbformat": 4,
 "nbformat_minor": 5
}
