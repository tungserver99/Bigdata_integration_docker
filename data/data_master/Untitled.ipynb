{
 "cells": [
  {
   "cell_type": "code",
   "execution_count": 1,
   "id": "0fef50b6",
   "metadata": {},
   "outputs": [],
   "source": [
    "from pyspark.sql import SparkSession\n",
    "from pyspark.ml import Pipeline\n",
    "from pyspark.ml.feature import CountVectorizer,StringIndexer, RegexTokenizer,StopWordsRemover, IDF, IndexToString\n",
    "from pyspark.ml.feature import CountVectorizerModel, IDFModel, StringIndexerModel\n",
    "from pyspark.sql.functions import col, udf,regexp_replace,isnull\n",
    "from pyspark.sql.types import StringType,IntegerType\n",
    "from pyspark.ml.classification import NaiveBayes, RandomForestClassifier, LogisticRegression, DecisionTreeClassifier, GBTClassifier\n",
    "from pyspark.ml.classification import NaiveBayesModel, RandomForestClassificationModel, LogisticRegressionModel, DecisionTreeClassificationModel, GBTClassificationModel\n",
    "from pyspark.ml.evaluation import MulticlassClassificationEvaluator\n",
    "import string\n",
    "from pyspark.sql.functions import concat,concat_ws"
   ]
  },
  {
   "cell_type": "code",
   "execution_count": 2,
   "id": "3fb487eb",
   "metadata": {},
   "outputs": [
    {
     "name": "stdout",
     "output_type": "stream",
     "text": [
      "2022-07-10 18:11:23,955 WARN util.NativeCodeLoader: Unable to load native-hadoop library for your platform... using builtin-java classes where applicable\n",
      "usage: jupyter [-h] [--version] [--config-dir] [--data-dir] [--runtime-dir]\n",
      "               [--paths] [--json] [--debug]\n",
      "               [subcommand]\n",
      "\n",
      "Jupyter: Interactive Computing\n",
      "\n",
      "positional arguments:\n",
      "  subcommand     the subcommand to launch\n",
      "\n",
      "optional arguments:\n",
      "  -h, --help     show this help message and exit\n",
      "  --version      show the versions of core jupyter packages and exit\n",
      "  --config-dir   show Jupyter config dir\n",
      "  --data-dir     show Jupyter data dir\n",
      "  --runtime-dir  show Jupyter runtime dir\n",
      "  --paths        show all Jupyter paths. Add --json for machine-readable\n",
      "                 format.\n",
      "  --json         output paths as machine-readable json\n",
      "  --debug        output debug information about paths\n",
      "\n",
      "Available subcommands: bundlerextension console dejavu execute kernel\n",
      "kernelspec migrate nbconvert nbextension notebook qtconsole run\n",
      "serverextension troubleshoot trust\n",
      "\n",
      "Jupyter command `jupyter-/data/py_file/run_test.py` not found.\n",
      "2022-07-10 18:11:24,146 INFO util.ShutdownHookManager: Shutdown hook called\n",
      "2022-07-10 18:11:24,147 INFO util.ShutdownHookManager: Deleting directory /tmp/spark-6fa409a2-eadb-4cbb-988d-e922d4ceb3b4\n"
     ]
    },
    {
     "name": "stderr",
     "output_type": "stream",
     "text": [
      "2022-07-10 18:12:00,449 ERROR util.Utils: Uncaught exception in thread Thread-4\n",
      "java.io.IOException: Filesystem closed\n",
      "\tat org.apache.hadoop.hdfs.DFSClient.checkOpen(DFSClient.java:474)\n",
      "\tat org.apache.hadoop.hdfs.DFSClient.getFileInfo(DFSClient.java:1663)\n",
      "\tat org.apache.hadoop.hdfs.DistributedFileSystem$29.doCall(DistributedFileSystem.java:1582)\n",
      "\tat org.apache.hadoop.hdfs.DistributedFileSystem$29.doCall(DistributedFileSystem.java:1579)\n",
      "\tat org.apache.hadoop.fs.FileSystemLinkResolver.resolve(FileSystemLinkResolver.java:81)\n",
      "\tat org.apache.hadoop.hdfs.DistributedFileSystem.getFileStatus(DistributedFileSystem.java:1594)\n",
      "\tat org.apache.hadoop.fs.FileSystem.exists(FileSystem.java:1683)\n",
      "\tat org.apache.spark.scheduler.EventLoggingListener.stop(EventLoggingListener.scala:248)\n",
      "\tat org.apache.spark.SparkContext$$anonfun$stop$8$$anonfun$apply$mcV$sp$6.apply(SparkContext.scala:1960)\n",
      "\tat org.apache.spark.SparkContext$$anonfun$stop$8$$anonfun$apply$mcV$sp$6.apply(SparkContext.scala:1960)\n",
      "\tat scala.Option.foreach(Option.scala:257)\n",
      "\tat org.apache.spark.SparkContext$$anonfun$stop$8.apply$mcV$sp(SparkContext.scala:1960)\n",
      "\tat org.apache.spark.util.Utils$.tryLogNonFatalError(Utils.scala:1340)\n",
      "\tat org.apache.spark.SparkContext.stop(SparkContext.scala:1959)\n",
      "\tat org.apache.spark.api.java.JavaSparkContext.stop(JavaSparkContext.scala:654)\n",
      "\tat sun.reflect.NativeMethodAccessorImpl.invoke0(Native Method)\n",
      "\tat sun.reflect.NativeMethodAccessorImpl.invoke(NativeMethodAccessorImpl.java:62)\n",
      "\tat sun.reflect.DelegatingMethodAccessorImpl.invoke(DelegatingMethodAccessorImpl.java:43)\n",
      "\tat java.lang.reflect.Method.invoke(Method.java:498)\n",
      "\tat py4j.reflection.MethodInvoker.invoke(MethodInvoker.java:244)\n",
      "\tat py4j.reflection.ReflectionEngine.invoke(ReflectionEngine.java:357)\n",
      "\tat py4j.Gateway.invoke(Gateway.java:282)\n",
      "\tat py4j.commands.AbstractCommand.invokeMethod(AbstractCommand.java:132)\n",
      "\tat py4j.commands.CallCommand.execute(CallCommand.java:79)\n",
      "\tat py4j.GatewayConnection.run(GatewayConnection.java:238)\n",
      "\tat java.lang.Thread.run(Thread.java:748)\n",
      "ERROR:root:Exception while sending command.\n",
      "Traceback (most recent call last):\n",
      "  File \"/usr/spark/python/lib/py4j-0.10.7-src.zip/py4j/java_gateway.py\", line 1159, in send_command\n",
      "    raise Py4JNetworkError(\"Answer from Java side is empty\")\n",
      "py4j.protocol.Py4JNetworkError: Answer from Java side is empty\n",
      "\n",
      "During handling of the above exception, another exception occurred:\n",
      "\n",
      "Traceback (most recent call last):\n",
      "  File \"/usr/spark/python/lib/py4j-0.10.7-src.zip/py4j/java_gateway.py\", line 985, in send_command\n",
      "    response = connection.send_command(command)\n",
      "  File \"/usr/spark/python/lib/py4j-0.10.7-src.zip/py4j/java_gateway.py\", line 1164, in send_command\n",
      "    \"Error while receiving\", e, proto.ERROR_ON_RECEIVE)\n",
      "py4j.protocol.Py4JNetworkError: Error while receiving\n",
      "/usr/spark/python/pyspark/context.py:446: RuntimeWarning: Unable to cleanly shutdown Spark JVM process. It is possible that the process has crashed, been killed or may also be in a zombie state.\n",
      "  RuntimeWarning\n",
      "ERROR:py4j.java_gateway:An error occurred while trying to connect to the Java server (127.0.0.1:42163)\n",
      "Traceback (most recent call last):\n",
      "  File \"/usr/spark/python/lib/py4j-0.10.7-src.zip/py4j/java_gateway.py\", line 929, in _get_connection\n",
      "    connection = self.deque.pop()\n",
      "IndexError: pop from an empty deque\n",
      "\n",
      "During handling of the above exception, another exception occurred:\n",
      "\n",
      "Traceback (most recent call last):\n",
      "  File \"/usr/spark/python/lib/py4j-0.10.7-src.zip/py4j/java_gateway.py\", line 1067, in start\n",
      "    self.socket.connect((self.address, self.port))\n",
      "ConnectionRefusedError: [Errno 111] Connection refused\n"
     ]
    }
   ],
   "source": [
    "!spark-submit --driver-memory 3g --executor-memory 3g /data/py_file/run_test.py --input_file /data/test/test_file.txt"
   ]
  },
  {
   "cell_type": "code",
   "execution_count": 4,
   "id": "91e31c4c",
   "metadata": {},
   "outputs": [
    {
     "name": "stderr",
     "output_type": "stream",
     "text": [
      "                                                                                \r"
     ]
    }
   ],
   "source": [
    "train_df = spark.read.format(\"csv\").option(\"inferSchema\", True).option(\"header\", True).option(\"delimiter\",\"\\t\").load(\"/data/train/train_raw\")\n",
    "indexer = StringIndexer(inputCol=\"Category\", outputCol=\"categoryIndex\")\n",
    "indexed = indexer.fit(train_df)\n",
    "indexed.save(model_path + \"string_indexer\")"
   ]
  },
  {
   "cell_type": "code",
   "execution_count": 7,
   "id": "1239a6d4",
   "metadata": {},
   "outputs": [
    {
     "name": "stdout",
     "output_type": "stream",
     "text": [
      "+-----+--------------------+--------------------+--------------------+--------------------+--------------------+------------+------------+--------------------+-------------+\n",
      "|  _c0|                 URL|               Title|             Summary|            Contents|                Date|   Author(s)|    Category|                Tags|categoryIndex|\n",
      "+-----+--------------------+--------------------+--------------------+--------------------+--------------------+------------+------------+--------------------+-------------+\n",
      "|    0|https://laodong.v...|\"Thông tin “Ngọc ...|Lâm Đồng - Lãnh đ...|Những ngày vừa qu...|Thứ sáu, 20/05/20...|Phương Nhiên|Bất động sản|['Lâm Đồng', 'Ngọ...|         12.0|\n",
      "|    1|https://laodong.v...|Lỗ hổng trong việ...|TPHCM - Việc khôn...|\"Theo thông tin t...|Thứ sáu, 20/05/20...|    Gia Miêu|Bất động sản|['Thủ Thiêm', 'Đấ...|         12.0|\n",
      "|   10|https://laodong.v...|Giá trị các khu đ...|Đồng Nai - Trong ...|Theo đó, ở TP.Biê...|Thứ tư, 18/05/202...|HÀ ANH CHIẾN|Bất động sản|['Đồng Nai', 'Biê...|         12.0|\n",
      "|  100|https://laodong.v...|Những điểm nghẽn ...|Thị trường bất độ...|\"Tháo gỡ rào cản ...|Thứ tư, 04/05/202...|     Lan Nhi|Bất động sản|['Du lịch', 'Nghỉ...|         12.0|\n",
      "| 1000|https://laodong.v...|Cơ hội đặc biệt đ...|Chương trình “Tổ ...|\"Không gian thông...|Thứ sáu, 26/11/20...|     Diệu An|Bất động sản|['Vinhomes Ocean ...|         12.0|\n",
      "|10000|https://laodong.v...|Ngày mai, Hà Nội ...|Từ ngày mai, 1.7,...|Để triển khai hiệ...|Thứ tư, 30/06/202...|  VƯƠNG TRẦN|     Thời sự|['Hà Nội', 'Quốc ...|          8.0|\n",
      "|10001|https://laodong.v...|Giám đốc Công an ...|Lãnh đạo tỉnh Đồn...|Thiếu tướng Vũ Hồ...|Thứ tư, 30/06/202...|         M.A|     Thời sự|['Công an', 'Thủ ...|          8.0|\n",
      "|10002|https://laodong.v...|Thủ tướng đề nghị...|Tại buổi làm việc...|Tối 29.6, tại trụ...|Thứ tư, 30/06/202...|   Phạm Đông|     Thời sự|['Sản xuất vaccin...|          8.0|\n",
      "|10003|https://laodong.v...|Giám đốc Công an ...|Đại tá Hồ Văn Mườ...|Sáng 30.6, HĐND t...|Thứ tư, 30/06/202...|   BẢO TRUNG|     Thời sự|['Công an', 'Đắk ...|          8.0|\n",
      "|10004|https://laodong.v...|Chủ tịch Quốc hội...|Ngày 30.6, đoàn c...|\"Ủy viên Trung ươ...|Thứ tư, 30/06/202...|   BẢO TRUNG|     Thời sự|['Người lao động'...|          8.0|\n",
      "|10005|https://laodong.v...|Ông Phạm Ngọc Ngh...|Ông Phạm Ngọc Ngh...|Ngày 30.6, HĐND t...|Thứ tư, 30/06/202...|   BẢO TRUNG|     Thời sự|['Quốc hội', 'Chủ...|          8.0|\n",
      "|10006|https://laodong.v...|Ông Nguyễn Văn Th...|Ngày 30.6, Hội đồ...|Theo kết quả bỏ p...|Thứ tư, 30/06/202...|    Thành An|     Thời sự|['Bà Rịa - Vũng T...|          8.0|\n",
      "|10007|https://laodong.v...|Ông Võ Ngọc Đồng ...|Sáng 30.6, UBND T...|Ông Võ Ngọc Đồng ...|Thứ tư, 30/06/202...|  THUỲ TRANG|     Thời sự|['Đà Nẵng', 'Hoàn...|          8.0|\n",
      "|10008|https://laodong.v...|Ông Phạm Viết Tha...|Ngày 30.6, tại Tr...|Tại kỳ họp này, H...|Thứ tư, 30/06/202...|    Thành An|     Thời sự|['Bà Rịa - Vũng T...|          8.0|\n",
      "|10009|https://laodong.v...|Hà Tĩnh có tân Gi...|Chủ tịch UBND tỉn...|Theo đó, quyết đị...|Thứ tư, 30/06/202...|   TRẦN TUẤN|     Thời sự|['Bổ nhiệm', 'Hà ...|          8.0|\n",
      "| 1001|https://laodong.v...|Người mua nhà ở T...|TPHCM - Mua căn h...|Mắc kẹt với sai p...|Thứ sáu, 26/11/20...|    Gia Miêu|Bất động sản|['TPHCM', 'sổ hồn...|         12.0|\n",
      "|10010|https://laodong.v...|Bí thư Hậu Giang ...|Ông Lê Tiến Châu ...|Sáng 30.6, tại Hà...|Thứ tư, 30/06/202...|   Phạm Đông|     Thời sự|['Bí thư Hậu Gian...|          8.0|\n",
      "|10011|https://laodong.v...|Thư cảm ơn của Tổ...|Kết thúc chuyến t...|\"Chiều 29.6, Tổng...|Thứ tư, 30/06/202...|          LĐ|     Thời sự|['Việt Nam', 'Tổn...|          8.0|\n",
      "|10012|https://laodong.v...|Bảo đảm an ninh m...|Bộ trưởng Ngoại g...|Ngày 29.6.2021, B...|Thứ tư, 30/06/202...|    Ngọc Vân|     Thời sự|['Việt Nam', 'Liê...|          8.0|\n",
      "|10013|https://laodong.v...|ASEAN-Nga hợp tác...|Việt Nam cam kết ...|Làm sâu sắc hơn q...|Thứ tư, 30/06/202...|    Thanh Hà|     Thời sự|['Nga', 'Hòa Bình...|          8.0|\n",
      "+-----+--------------------+--------------------+--------------------+--------------------+--------------------+------------+------------+--------------------+-------------+\n",
      "only showing top 20 rows\n",
      "\n"
     ]
    }
   ],
   "source": [
    "indexer = StringIndexerModel.load(model_path + \"string_indexer\")\n",
    "indexed = indexer.transform(train_df)\n",
    "indexed.show()"
   ]
  },
  {
   "cell_type": "code",
   "execution_count": 9,
   "id": "f4f06999",
   "metadata": {},
   "outputs": [
    {
     "data": {
      "text/plain": [
       "23"
      ]
     },
     "execution_count": 9,
     "metadata": {},
     "output_type": "execute_result"
    }
   ],
   "source": [
    "len(indexer.labels)"
   ]
  },
  {
   "cell_type": "code",
   "execution_count": 15,
   "id": "7ef2adac",
   "metadata": {},
   "outputs": [
    {
     "name": "stderr",
     "output_type": "stream",
     "text": [
      "[Stage 35:>                                                         (0 + 1) / 1]"
     ]
    },
    {
     "name": "stdout",
     "output_type": "stream",
     "text": [
      "+--------------------+--------+--------------------+--------------------+--------------------+--------------------+--------------------+\n",
      "|        fullContents|Category|            only_str|         only_letter|               words|            features|     tf_idf_features|\n",
      "+--------------------+--------+--------------------+--------------------+--------------------+--------------------+--------------------+\n",
      "|Hỗ trợ người lao ...| Thời sự|Hỗ trợ người lao ...|Hỗ trợ người lao ...|[hỗ, trợ, người, ...|(262144,[0,1,2,3,...|(262144,[0,1,2,3,...|\n",
      "|Đưa Hải Phòng trở...| Thời sự|Đưa Hải Phòng trở...|Đưa Hải Phòng trở...|[đưa, hải, phòng,...|(262144,[0,1,2,3,...|(262144,[0,1,2,3,...|\n",
      "|Lần đầu tiên Bến ...| Thời sự|Lần đầu tiên Bến ...|Lần đầu tiên Bến ...|[lần, đầu, tiên, ...|(262144,[0,1,2,3,...|(262144,[0,1,2,3,...|\n",
      "|Ninh Thuận có tân...| Thời sự|Ninh Thuận có tân...|Ninh Thuận có tân...|[ninh, thuận, có,...|(262144,[0,2,3,5,...|(262144,[0,2,3,5,...|\n",
      "|Báo cáo Chính phủ...| Thời sự|Báo cáo Chính phủ...|Báo cáo Chính phủ...|[báo, cáo, chính,...|(262144,[0,1,2,3,...|(262144,[0,1,2,3,...|\n",
      "+--------------------+--------+--------------------+--------------------+--------------------+--------------------+--------------------+\n",
      "only showing top 5 rows\n",
      "\n"
     ]
    },
    {
     "name": "stderr",
     "output_type": "stream",
     "text": [
      "                                                                                \r"
     ]
    }
   ],
   "source": [
    "test_df = spark.read.format(\"csv\").option(\"inferSchema\", True).option(\"header\", True).option(\"delimiter\",\"\\t\").load(\"/data/test/test_raw\")\n",
    "fullContents = test_df.select(concat_ws(' ', test_df.Title, test_df.Summary, test_df.Contents).alias(\"fullContents\"), \"Category\")\n",
    "only_str = fullContents.withColumn(\"only_str\",regexp_replace(col('fullContents'), '\\d+|“|”', ''))\n",
    "only_letter = only_str.withColumn(\"only_letter\",regexp_replace(col('only_str'), '\\\\p{Punct}', '')) \n",
    "regex_tokenizer = RegexTokenizer(inputCol=\"only_letter\", outputCol=\"words\")\n",
    "raw_words = regex_tokenizer.transform(only_letter)\n",
    "loadedCv = CountVectorizerModel.load(model_path + \"/count_vectorizer\")\n",
    "countVectorizer_train = loadedCv.transform(raw_words)\n",
    "idfModel = IDFModel.load(model_path + \"/idf\")\n",
    "tf_idf_test = idfModel.transform(countVectorizer_train)\n",
    "tf_idf_test.show(5)"
   ]
  },
  {
   "cell_type": "code",
   "execution_count": 16,
   "id": "f1fed1be",
   "metadata": {},
   "outputs": [
    {
     "name": "stderr",
     "output_type": "stream",
     "text": [
      "[Stage 39:>                                                         (0 + 1) / 1]"
     ]
    },
    {
     "name": "stdout",
     "output_type": "stream",
     "text": [
      "+--------------------+--------+--------------------+--------------------+--------------------+--------------------+--------------------+--------------------+--------------------+----------+\n",
      "|        fullContents|Category|            only_str|         only_letter|               words|            features|     tf_idf_features|       rawPrediction|         probability|prediction|\n",
      "+--------------------+--------+--------------------+--------------------+--------------------+--------------------+--------------------+--------------------+--------------------+----------+\n",
      "|Hỗ trợ người lao ...| Thời sự|Hỗ trợ người lao ...|Hỗ trợ người lao ...|[hỗ, trợ, người, ...|(262144,[0,1,2,3,...|(262144,[0,1,2,3,...|[-10939.582751288...|[0.0,0.0,0.0,0.0,...|       8.0|\n",
      "|Đưa Hải Phòng trở...| Thời sự|Đưa Hải Phòng trở...|Đưa Hải Phòng trở...|[đưa, hải, phòng,...|(262144,[0,1,2,3,...|(262144,[0,1,2,3,...|[-7780.4990075850...|[0.0,0.0,0.0,0.0,...|       8.0|\n",
      "|Lần đầu tiên Bến ...| Thời sự|Lần đầu tiên Bến ...|Lần đầu tiên Bến ...|[lần, đầu, tiên, ...|(262144,[0,1,2,3,...|(262144,[0,1,2,3,...|[-3907.4648183448...|[1.53636895226385...|       8.0|\n",
      "|Ninh Thuận có tân...| Thời sự|Ninh Thuận có tân...|Ninh Thuận có tân...|[ninh, thuận, có,...|(262144,[0,2,3,5,...|(262144,[0,2,3,5,...|[-3009.8589367826...|[6.89783796206293...|       8.0|\n",
      "|Báo cáo Chính phủ...| Thời sự|Báo cáo Chính phủ...|Báo cáo Chính phủ...|[báo, cáo, chính,...|(262144,[0,1,2,3,...|(262144,[0,1,2,3,...|[-7869.2669592778...|[0.0,0.0,0.0,0.0,...|       8.0|\n",
      "+--------------------+--------+--------------------+--------------------+--------------------+--------------------+--------------------+--------------------+--------------------+----------+\n",
      "only showing top 5 rows\n",
      "\n"
     ]
    },
    {
     "name": "stderr",
     "output_type": "stream",
     "text": [
      "                                                                                \r"
     ]
    }
   ],
   "source": [
    "nb_save = model_path + \"nb_model\"\n",
    "nbModel = NaiveBayesModel.load(nb_save)\n",
    "nb_predictions = nbModel.transform(tf_idf_test)\n",
    "nb_predictions.show(5)"
   ]
  },
  {
   "cell_type": "code",
   "execution_count": 17,
   "id": "956dd516",
   "metadata": {},
   "outputs": [
    {
     "name": "stdout",
     "output_type": "stream",
     "text": [
      "+--------------------+--------+--------------------+--------------------+--------------------+--------------------+--------------------+--------------------+--------------------+----------+-------------+\n",
      "|        fullContents|Category|            only_str|         only_letter|               words|            features|     tf_idf_features|       rawPrediction|         probability|prediction|categoryIndex|\n",
      "+--------------------+--------+--------------------+--------------------+--------------------+--------------------+--------------------+--------------------+--------------------+----------+-------------+\n",
      "|Hỗ trợ người lao ...| Thời sự|Hỗ trợ người lao ...|Hỗ trợ người lao ...|[hỗ, trợ, người, ...|(262144,[0,1,2,3,...|(262144,[0,1,2,3,...|[-10939.582751288...|[0.0,0.0,0.0,0.0,...|       8.0|          8.0|\n",
      "|Đưa Hải Phòng trở...| Thời sự|Đưa Hải Phòng trở...|Đưa Hải Phòng trở...|[đưa, hải, phòng,...|(262144,[0,1,2,3,...|(262144,[0,1,2,3,...|[-7780.4990075850...|[0.0,0.0,0.0,0.0,...|       8.0|          8.0|\n",
      "|Lần đầu tiên Bến ...| Thời sự|Lần đầu tiên Bến ...|Lần đầu tiên Bến ...|[lần, đầu, tiên, ...|(262144,[0,1,2,3,...|(262144,[0,1,2,3,...|[-3907.4648183448...|[1.53636895226385...|       8.0|          8.0|\n",
      "|Ninh Thuận có tân...| Thời sự|Ninh Thuận có tân...|Ninh Thuận có tân...|[ninh, thuận, có,...|(262144,[0,2,3,5,...|(262144,[0,2,3,5,...|[-3009.8589367826...|[6.89783796206293...|       8.0|          8.0|\n",
      "|Báo cáo Chính phủ...| Thời sự|Báo cáo Chính phủ...|Báo cáo Chính phủ...|[báo, cáo, chính,...|(262144,[0,1,2,3,...|(262144,[0,1,2,3,...|[-7869.2669592778...|[0.0,0.0,0.0,0.0,...|       8.0|          8.0|\n",
      "+--------------------+--------+--------------------+--------------------+--------------------+--------------------+--------------------+--------------------+--------------------+----------+-------------+\n",
      "only showing top 5 rows\n",
      "\n"
     ]
    },
    {
     "name": "stderr",
     "output_type": "stream",
     "text": [
      "                                                                                \r"
     ]
    }
   ],
   "source": [
    "indexer = StringIndexerModel.load(model_path + \"string_indexer\")\n",
    "indexed = indexer.transform(nb_predictions)\n",
    "indexed.show(5)"
   ]
  },
  {
   "cell_type": "code",
   "execution_count": 18,
   "id": "85ab8828",
   "metadata": {},
   "outputs": [
    {
     "name": "stderr",
     "output_type": "stream",
     "text": [
      "[Stage 46:=============================>                            (1 + 1) / 2]"
     ]
    },
    {
     "name": "stdout",
     "output_type": "stream",
     "text": [
      "Accuracy of NaiveBayes is = 0.719695\n"
     ]
    },
    {
     "name": "stderr",
     "output_type": "stream",
     "text": [
      "                                                                                \r"
     ]
    }
   ],
   "source": [
    "evaluator = MulticlassClassificationEvaluator(labelCol=\"categoryIndex\", predictionCol=\"prediction\", metricName=\"accuracy\")\n",
    "nb_accuracy = evaluator.evaluate(indexed)\n",
    "print(\"Accuracy of NaiveBayes is = %g\"% (nb_accuracy))"
   ]
  },
  {
   "cell_type": "code",
   "execution_count": 3,
   "id": "fbead838",
   "metadata": {},
   "outputs": [
    {
     "name": "stdout",
     "output_type": "stream",
     "text": [
      "+--------------------+------------+-------------+--------------------+\n",
      "|        fullContents|    Category|categoryIndex|            only_str|\n",
      "+--------------------+------------+-------------+--------------------+\n",
      "|\"Thông tin “Ngọc ...|Bất động sản|         12.0|\"Thông tin Ngọc T...|\n",
      "|Lỗ hổng trong việ...|Bất động sản|         12.0|Lỗ hổng trong việ...|\n",
      "|Giá trị các khu đ...|Bất động sản|         12.0|Giá trị các khu đ...|\n",
      "|Những điểm nghẽn ...|Bất động sản|         12.0|Những điểm nghẽn ...|\n",
      "|Cơ hội đặc biệt đ...|Bất động sản|         12.0|Cơ hội đặc biệt đ...|\n",
      "+--------------------+------------+-------------+--------------------+\n",
      "only showing top 5 rows\n",
      "\n"
     ]
    }
   ],
   "source": [
    "only_str = fullContents.withColumn(\"only_str\",regexp_replace(col('fullContents'), '\\d+|“|”', ''))\n",
    "only_str.show(5)"
   ]
  },
  {
   "cell_type": "code",
   "execution_count": 4,
   "id": "61fbc556",
   "metadata": {},
   "outputs": [
    {
     "name": "stdout",
     "output_type": "stream",
     "text": [
      "+--------------------+------------+-------------+--------------------+--------------------+\n",
      "|        fullContents|    Category|categoryIndex|            only_str|         only_letter|\n",
      "+--------------------+------------+-------------+--------------------+--------------------+\n",
      "|\"Thông tin “Ngọc ...|Bất động sản|         12.0|\"Thông tin Ngọc T...|Thông tin Ngọc Tr...|\n",
      "|Lỗ hổng trong việ...|Bất động sản|         12.0|Lỗ hổng trong việ...|Lỗ hổng trong việ...|\n",
      "|Giá trị các khu đ...|Bất động sản|         12.0|Giá trị các khu đ...|Giá trị các khu đ...|\n",
      "|Những điểm nghẽn ...|Bất động sản|         12.0|Những điểm nghẽn ...|Những điểm nghẽn ...|\n",
      "|Cơ hội đặc biệt đ...|Bất động sản|         12.0|Cơ hội đặc biệt đ...|Cơ hội đặc biệt đ...|\n",
      "+--------------------+------------+-------------+--------------------+--------------------+\n",
      "only showing top 5 rows\n",
      "\n"
     ]
    }
   ],
   "source": [
    "only_letter = only_str.withColumn(\"only_letter\",regexp_replace(col('only_str'), '\\\\p{Punct}', '')) \n",
    "only_letter.show(5)"
   ]
  },
  {
   "cell_type": "code",
   "execution_count": 5,
   "id": "90ba9bd5",
   "metadata": {},
   "outputs": [
    {
     "name": "stdout",
     "output_type": "stream",
     "text": [
      "+--------------------+------------+-------------+--------------------+--------------------+--------------------+\n",
      "|        fullContents|    Category|categoryIndex|            only_str|         only_letter|               words|\n",
      "+--------------------+------------+-------------+--------------------+--------------------+--------------------+\n",
      "|\"Thông tin “Ngọc ...|Bất động sản|         12.0|\"Thông tin Ngọc T...|Thông tin Ngọc Tr...|[thông, tin, ngọc...|\n",
      "|Lỗ hổng trong việ...|Bất động sản|         12.0|Lỗ hổng trong việ...|Lỗ hổng trong việ...|[lỗ, hổng, trong,...|\n",
      "|Giá trị các khu đ...|Bất động sản|         12.0|Giá trị các khu đ...|Giá trị các khu đ...|[giá, trị, các, k...|\n",
      "|Những điểm nghẽn ...|Bất động sản|         12.0|Những điểm nghẽn ...|Những điểm nghẽn ...|[những, điểm, ngh...|\n",
      "|Cơ hội đặc biệt đ...|Bất động sản|         12.0|Cơ hội đặc biệt đ...|Cơ hội đặc biệt đ...|[cơ, hội, đặc, bi...|\n",
      "+--------------------+------------+-------------+--------------------+--------------------+--------------------+\n",
      "only showing top 5 rows\n",
      "\n"
     ]
    }
   ],
   "source": [
    "regex_tokenizer = RegexTokenizer(inputCol=\"only_letter\", outputCol=\"words\")\n",
    "raw_words = regex_tokenizer.transform(only_letter)\n",
    "raw_words.show(5)"
   ]
  },
  {
   "cell_type": "code",
   "execution_count": 7,
   "id": "cf9b77d5",
   "metadata": {},
   "outputs": [
    {
     "name": "stderr",
     "output_type": "stream",
     "text": [
      "2022-07-10 15:13:02,384 WARN scheduler.TaskSetManager: Stage 11 contains a task of very large size (5508 KB). The maximum recommended task size is 100 KB.\n",
      "                                                                                \r"
     ]
    }
   ],
   "source": [
    "cv = CountVectorizer(inputCol=\"words\", outputCol=\"features\")\n",
    "model = cv.fit(raw_words)\n",
    "model.save(model_path + \"/count_vectorizer\")"
   ]
  },
  {
   "cell_type": "code",
   "execution_count": 10,
   "id": "a4664c9d",
   "metadata": {},
   "outputs": [
    {
     "name": "stderr",
     "output_type": "stream",
     "text": [
      "[Stage 17:>                                                         (0 + 1) / 1]"
     ]
    },
    {
     "name": "stdout",
     "output_type": "stream",
     "text": [
      "+--------------------+------------+-------------+--------------------+--------------------+--------------------+--------------------+\n",
      "|        fullContents|    Category|categoryIndex|            only_str|         only_letter|               words|            features|\n",
      "+--------------------+------------+-------------+--------------------+--------------------+--------------------+--------------------+\n",
      "|\"Thông tin “Ngọc ...|Bất động sản|         12.0|\"Thông tin Ngọc T...|Thông tin Ngọc Tr...|[thông, tin, ngọc...|(262144,[0,1,2,3,...|\n",
      "|Lỗ hổng trong việ...|Bất động sản|         12.0|Lỗ hổng trong việ...|Lỗ hổng trong việ...|[lỗ, hổng, trong,...|(262144,[0,1,2,3,...|\n",
      "|Giá trị các khu đ...|Bất động sản|         12.0|Giá trị các khu đ...|Giá trị các khu đ...|[giá, trị, các, k...|(262144,[0,2,3,4,...|\n",
      "|Những điểm nghẽn ...|Bất động sản|         12.0|Những điểm nghẽn ...|Những điểm nghẽn ...|[những, điểm, ngh...|(262144,[0,1,2,3,...|\n",
      "|Cơ hội đặc biệt đ...|Bất động sản|         12.0|Cơ hội đặc biệt đ...|Cơ hội đặc biệt đ...|[cơ, hội, đặc, bi...|(262144,[0,1,2,3,...|\n",
      "+--------------------+------------+-------------+--------------------+--------------------+--------------------+--------------------+\n",
      "only showing top 5 rows\n",
      "\n"
     ]
    },
    {
     "name": "stderr",
     "output_type": "stream",
     "text": [
      "                                                                                \r"
     ]
    }
   ],
   "source": [
    "loadedCv = CountVectorizerModel.load(model_path + \"/count_vectorizer\")\n",
    "countVectorizer_train = model.transform(raw_words)\n",
    "countVectorizer_train.show(5)"
   ]
  },
  {
   "cell_type": "code",
   "execution_count": 11,
   "id": "46f5e94c",
   "metadata": {},
   "outputs": [
    {
     "name": "stderr",
     "output_type": "stream",
     "text": [
      "2022-07-10 15:21:15,437 WARN scheduler.TaskSetManager: Stage 21 contains a task of very large size (2098 KB). The maximum recommended task size is 100 KB.\n"
     ]
    }
   ],
   "source": [
    "idf = IDF(inputCol=\"features\", outputCol=\"tf_idf_features\")\n",
    "idfModel = idf.fit(countVectorizer_train)\n",
    "idfModel.save(model_path + \"/idf\")"
   ]
  },
  {
   "cell_type": "code",
   "execution_count": 3,
   "id": "a182d256",
   "metadata": {},
   "outputs": [
    {
     "name": "stderr",
     "output_type": "stream",
     "text": [
      "\r",
      "[Stage 0:>                                                          (0 + 1) / 1]"
     ]
    },
    {
     "name": "stdout",
     "output_type": "stream",
     "text": [
      "+--------------------+\n",
      "|               value|\n",
      "+--------------------+\n",
      "|Đơn cử như mới đâ...|\n",
      "+--------------------+\n",
      "\n"
     ]
    },
    {
     "name": "stderr",
     "output_type": "stream",
     "text": [
      "\r",
      "                                                                                \r"
     ]
    }
   ],
   "source": [
    "text = spark.read.text(\"/data/test/test_file.txt\")\n",
    "text.show()"
   ]
  },
  {
   "cell_type": "code",
   "execution_count": 5,
   "id": "65bf8968",
   "metadata": {},
   "outputs": [],
   "source": [
    "import sys\n",
    "import argparse"
   ]
  },
  {
   "cell_type": "code",
   "execution_count": 3,
   "id": "e14acd63",
   "metadata": {},
   "outputs": [
    {
     "name": "stderr",
     "output_type": "stream",
     "text": [
      "\r",
      "[Stage 25:>                                                         (0 + 1) / 1]"
     ]
    },
    {
     "name": "stdout",
     "output_type": "stream",
     "text": [
      "Bất động sản\n"
     ]
    },
    {
     "name": "stderr",
     "output_type": "stream",
     "text": [
      "\r",
      "                                                                                \r"
     ]
    }
   ],
   "source": [
    "model_path = \"/data/model/\"\n",
    "text_df = spark.read.text(\"/data/test/test_file.txt\")\n",
    "indexer = StringIndexerModel.load(model_path + \"string_indexer\")\n",
    "inverter = IndexToString(inputCol=\"prediction\", outputCol=\"originalLabel\", labels=indexer.labels)\n",
    "indexed = indexer.transform(text_df)\n",
    "\n",
    "only_str = indexed.withColumn(\"only_str\",regexp_replace(col('value'), '\\d+|“|”', ''))\n",
    "only_letter = only_str.withColumn(\"only_letter\",regexp_replace(col('only_str'), '\\\\p{Punct}', '')) \n",
    "regex_tokenizer = RegexTokenizer(inputCol=\"only_letter\", outputCol=\"words\")\n",
    "raw_words = regex_tokenizer.transform(only_letter)\n",
    "\n",
    "loadedCv = CountVectorizerModel.load(model_path + \"/count_vectorizer\")\n",
    "countVectorizer_train = loadedCv.transform(raw_words)\n",
    "idfModel = IDFModel.load(model_path + \"/idf\")\n",
    "tf_idf_test = idfModel.transform(countVectorizer_train)\n",
    "\n",
    "nb_save = model_path + \"nb_model\"\n",
    "nbModel = NaiveBayesModel.load(nb_save)\n",
    "nb_predictions = nbModel.transform(tf_idf_test)\n",
    "nb_predictions = inverter.transform(nb_predictions)\n",
    "category = nb_predictions.select(\"originalLabel\").collect()[0][0]\n",
    "print(category)"
   ]
  },
  {
   "cell_type": "code",
   "execution_count": 1,
   "id": "c9a01266",
   "metadata": {},
   "outputs": [],
   "source": [
    "import pandas as pd"
   ]
  },
  {
   "cell_type": "code",
   "execution_count": 16,
   "id": "543c2f53-efe6-481a-ae9a-a52360c4cf98",
   "metadata": {},
   "outputs": [],
   "source": [
    "df = pd.read_csv(\"test/test_raw/part-00000-b5754aec-c329-486e-b016-dd2c6d7b72c4-c000.csv\", delimiter=\"\\t\", encoding=\"utf-8\")"
   ]
  },
  {
   "cell_type": "code",
   "execution_count": 22,
   "id": "fa2fafee-8e47-4e01-a59a-54324fb42998",
   "metadata": {},
   "outputs": [
    {
     "data": {
      "text/plain": [
       "'Đơn cử như mới đây, Sở Xây dựng TP.HCM vừa có văn bản tuýt còi về việc bán nhà ở hình thành trong tương lai đối với 204 căn hộ thuộc dự án Chung cư cao tầng Thảo Điền (tên thương mại là Thảo Điền Green), toạ lạc tại số 192 Nguyễn Văn Hưởng, phường Thảo Điền, TP.Thủ Đức. Dự án do Công ty cổ phần đầu tư Bất động sản SIC (Công ty SIC) làm chủ đầu tư từ ngày 8.3, thay cho Công ty cổ phần đầu tư Văn Phú - Invest.  Sở Xây dựng TP.HCM cho biết, do chủ đầu tư đã thế chấp nhà ở hình thành trong tương lai nên trước khi bán hay cho thuê, đơn vị này phải thay đổi nội dung thế chấp để rút bớt tài sản (trừ trường hợp chủ đầu tư, bên mua và bên nhận thế chấp có thỏa thuận khác). Chủ đầu tư phải đảm bảo điều kiện theo yêu cầu để được ngân hàng bảo lãnh nghĩa vụ tài chính của nhà đầu tư đối với khách hàng trong trường hợp không bàn giao nhà ở theo đúng tiến độ cam kết. Sở Xây dựng TPHCM đã yêu cầu chủ đầu tư huy động vốn lần đầu không quá 30% giá trị hợp đồng. Khi chưa bàn giao nhà cho khách hàng, những lần tiếp theo phải phù hợp với tiến độ xây dựng nhưng tổng số không quá 70% giá trị hợp đồng. Với dự án này, Sở Xây dựng TPHCM khuyến cáo người dân trước khi ký hợp đồng mua bán cần tìm hiểu kỹ pháp lý và điều kiện mua, bán căn hộ hình thành trong tương lai nhằm hạn chế thiệt hại, phát sinh tranh chấp trong quá trình mua bán căn hộ.   Hay như trường hợp mặc dù thực trạng pháp lý chưa hoàn chỉnh nhưng chủ đầu tư đã cho đặt cọc, gần đây còn có dự án chung cư La Partenza tại xã Nhơn Đức, huyện Nhà Bè, TPHCM do Công ty TNHH Giao Hưởng Xanh làm chủ đầu tư. Theo tìm hiểu, từ cuối năm 2019, nhiều khách hàng đã đặt cọc mua căn hộ tại dự án La Partenza bằng hình thức ký văn bản thoả thuận với Công ty Cổ phần bất động sản Khải Minh Land, đơn vị phân phối dự án. Tiến độ thanh toán được chia theo đợt và đến nay nhiều khách hàng đã đóng 30% giá trị căn hộ tại dự án này. Tuy nhiên, dự án la Partenza hiện vẫn chỉ là bãi đất trống, chưa có động thái xây dựng.    Theo ông Lê Hoàng Châu, Chủ tịch Hiệp hội Bất động sản TPHCM, hiện nay,\\xa0Luật Kinh doanh bất động sản 2014\\xa0chỉ điều chỉnh\\xa0các hành vi\\xa0giao dịch bất động sản\\xa0kể từ thời điểm ký Hợp đồng\\xa0kinh doanh bất động sản,\\xa0nhưng\\xa0chưa quy định điều chỉnh\\xa0các hành vi\\xa0giao dịch bất động sản,\\xa0huy động vốn\\xa0xảy ra\\xa0trước thời điểm\\xa0ký Hợp đồng\\xa0kinh doanh bất động sản, như\\xa0“đặt cọc”,\\xa0“hứa mua, hứa bán”, “hợp tác đầu tư”, “liên doanh liên kết”, “hợp đồng góp vốn”…\\xa0dẫn đến xuất hiện tình trạng bên bán, bên huy động vốn\\xa0lợi dụng\\xa0để nhận tiền\\xa0“đặt cọc”\\xa0có giá trị lớn,\\xa0có trường hợp nhận đến 90% giá trị nhà đất, thậm chí đã xảy ra hoạt động kinh doanh phạm pháp tại Công ty Alibaba.   Để siết lại tình trạng này, ông Châu cho biết Hiệp hội đã có văn bản đề nghị bổ sung quy định về\\xa0“đặt cọc”\\xa0vào Luật Kinh doanh bất động sản 2014. Cụ thể, trước khi ký kết hợp đồng với khách hàng, chủ đầu tư dự án bất động sản có thể nhận đặt cọc của khách hàng\\xa0để bảo đảm giao kết hợp đồng kinh doanh bất động sản. Giá trị đặt cọc do các bên thỏa thuận nhưng không vượt quá 30% giá trị bất động sản. Hình thức văn bản đặt cọc do các bên thỏa thuận theo quy định của pháp luật về dân sự.'"
      ]
     },
     "execution_count": 22,
     "metadata": {},
     "output_type": "execute_result"
    }
   ],
   "source": [
    "f = open(\"test/test_f.txt\", \"w\", encoding=\"utf-16\")\n",
    "f.write(list(df.Contents)[12])\n",
    "f.close()\n",
    "list(df.Contents)[12]"
   ]
  },
  {
   "cell_type": "code",
   "execution_count": 11,
   "id": "f708624e-7927-4716-ab9f-4084eb1f07b5",
   "metadata": {},
   "outputs": [
    {
     "data": {
      "text/html": [
       "<div>\n",
       "<style scoped>\n",
       "    .dataframe tbody tr th:only-of-type {\n",
       "        vertical-align: middle;\n",
       "    }\n",
       "\n",
       "    .dataframe tbody tr th {\n",
       "        vertical-align: top;\n",
       "    }\n",
       "\n",
       "    .dataframe thead th {\n",
       "        text-align: right;\n",
       "    }\n",
       "</style>\n",
       "<table border=\"1\" class=\"dataframe\">\n",
       "  <thead>\n",
       "    <tr style=\"text-align: right;\">\n",
       "      <th></th>\n",
       "      <th>_c0</th>\n",
       "      <th>URL</th>\n",
       "      <th>Title</th>\n",
       "      <th>Summary</th>\n",
       "      <th>Contents</th>\n",
       "      <th>Date</th>\n",
       "      <th>Author(s)</th>\n",
       "      <th>Category</th>\n",
       "      <th>Tags</th>\n",
       "    </tr>\n",
       "  </thead>\n",
       "  <tbody>\n",
       "    <tr>\n",
       "      <th>0</th>\n",
       "      <td>NaN</td>\n",
       "      <td>NaN</td>\n",
       "      <td>NaN</td>\n",
       "      <td>NaN</td>\n",
       "      <td>NaN</td>\n",
       "      <td>NaN</td>\n",
       "      <td>NaN</td>\n",
       "      <td>NaN</td>\n",
       "      <td>NaN</td>\n",
       "    </tr>\n",
       "    <tr>\n",
       "      <th>1</th>\n",
       "      <td>NaN</td>\n",
       "      <td>NaN</td>\n",
       "      <td>NaN</td>\n",
       "      <td>NaN</td>\n",
       "      <td>NaN</td>\n",
       "      <td>NaN</td>\n",
       "      <td>NaN</td>\n",
       "      <td>NaN</td>\n",
       "      <td>NaN</td>\n",
       "    </tr>\n",
       "    <tr>\n",
       "      <th>2</th>\n",
       "      <td>NaN</td>\n",
       "      <td>NaN</td>\n",
       "      <td>NaN</td>\n",
       "      <td>NaN</td>\n",
       "      <td>NaN</td>\n",
       "      <td>NaN</td>\n",
       "      <td>NaN</td>\n",
       "      <td>NaN</td>\n",
       "      <td>NaN</td>\n",
       "    </tr>\n",
       "    <tr>\n",
       "      <th>3</th>\n",
       "      <td>NaN</td>\n",
       "      <td>NaN</td>\n",
       "      <td>NaN</td>\n",
       "      <td>NaN</td>\n",
       "      <td>NaN</td>\n",
       "      <td>NaN</td>\n",
       "      <td>NaN</td>\n",
       "      <td>NaN</td>\n",
       "      <td>NaN</td>\n",
       "    </tr>\n",
       "    <tr>\n",
       "      <th>4</th>\n",
       "      <td>NaN</td>\n",
       "      <td>NaN</td>\n",
       "      <td>NaN</td>\n",
       "      <td>NaN</td>\n",
       "      <td>NaN</td>\n",
       "      <td>NaN</td>\n",
       "      <td>NaN</td>\n",
       "      <td>NaN</td>\n",
       "      <td>NaN</td>\n",
       "    </tr>\n",
       "  </tbody>\n",
       "</table>\n",
       "</div>"
      ],
      "text/plain": [
       "   _c0  URL Title Summary Contents Date Author(s) Category Tags\n",
       "0  NaN  NaN   NaN     NaN      NaN  NaN       NaN      NaN  NaN\n",
       "1  NaN  NaN   NaN     NaN      NaN  NaN       NaN      NaN  NaN\n",
       "2  NaN  NaN   NaN     NaN      NaN  NaN       NaN      NaN  NaN\n",
       "3  NaN  NaN   NaN     NaN      NaN  NaN       NaN      NaN  NaN\n",
       "4  NaN  NaN   NaN     NaN      NaN  NaN       NaN      NaN  NaN"
      ]
     },
     "execution_count": 11,
     "metadata": {},
     "output_type": "execute_result"
    }
   ],
   "source": [
    "df_bds = df.where(df.Category == \"Bất động sản\")\n",
    "df_bds.head(5)"
   ]
  },
  {
   "cell_type": "markdown",
   "id": "c948b251",
   "metadata": {},
   "source": [
    "### Decision Tree"
   ]
  },
  {
   "cell_type": "code",
   "execution_count": 11,
   "id": "07be1918",
   "metadata": {},
   "outputs": [],
   "source": [
    "dt = DecisionTreeClassifier(featuresCol = 'tf_idf_features', labelCol = 'categoryIndex', maxDepth = 3)\n",
    "dtModel = dt.fit(train)"
   ]
  },
  {
   "cell_type": "code",
   "execution_count": 13,
   "id": "455bd091",
   "metadata": {},
   "outputs": [],
   "source": [
    "dt_save = model_path + \"dt_model\"\n",
    "dtModel.save(dt_save)"
   ]
  },
  {
   "cell_type": "code",
   "execution_count": 14,
   "id": "f5e6f267",
   "metadata": {},
   "outputs": [
    {
     "name": "stdout",
     "output_type": "stream",
     "text": [
      "+--------------------+-------------+--------------------+--------------------+----------+\n",
      "|     tf_idf_features|categoryIndex|       rawPrediction|         probability|prediction|\n",
      "+--------------------+-------------+--------------------+--------------------+----------+\n",
      "|(262144,[0,1,2,3,...|          6.0|[2374.0,26.0,790....|[0.14384391662627...|       6.0|\n",
      "|(262144,[0,1,2,3,...|          0.0|[32353.0,3672.0,1...|[0.23033931851514...|       0.0|\n",
      "|(262144,[0,1,2,3,...|          0.0|[2374.0,26.0,790....|[0.14384391662627...|       6.0|\n",
      "|(262144,[0,1,2,3,...|          0.0|[2374.0,26.0,790....|[0.14384391662627...|       6.0|\n",
      "|(262144,[0,1,2,3,...|          5.0|[32353.0,3672.0,1...|[0.23033931851514...|       0.0|\n",
      "+--------------------+-------------+--------------------+--------------------+----------+\n",
      "only showing top 5 rows\n",
      "\n"
     ]
    }
   ],
   "source": [
    "dtModel = DecisionTreeClassificationModel.load(dt_save)\n",
    "dt_predictions = dtModel.transform(validate)\n",
    "dt_predictions.show(5)"
   ]
  },
  {
   "cell_type": "code",
   "execution_count": 15,
   "id": "3e9991bf-5b64-46dd-aed5-eeb9eaf1be65",
   "metadata": {},
   "outputs": [
    {
     "name": "stderr",
     "output_type": "stream",
     "text": [
      "[Stage 38:=============================>                            (1 + 1) / 2]"
     ]
    },
    {
     "name": "stdout",
     "output_type": "stream",
     "text": [
      "Accuracy of Decision Tree is = 0.344771\n"
     ]
    },
    {
     "name": "stderr",
     "output_type": "stream",
     "text": [
      "                                                                                \r"
     ]
    }
   ],
   "source": [
    "evaluator = MulticlassClassificationEvaluator(labelCol=\"categoryIndex\", predictionCol=\"prediction\", metricName=\"accuracy\")\n",
    "dt_accuracy = evaluator.evaluate(dt_predictions)\n",
    "print(\"Accuracy of Decision Tree is = %g\"% (dt_accuracy))"
   ]
  },
  {
   "cell_type": "code",
   "execution_count": 16,
   "id": "1b5bda95-f432-43ef-8daa-114305ed9592",
   "metadata": {},
   "outputs": [
    {
     "name": "stderr",
     "output_type": "stream",
     "text": [
      "[Stage 44:=============================>                            (1 + 1) / 2]"
     ]
    },
    {
     "name": "stdout",
     "output_type": "stream",
     "text": [
      "F1 of Decision Tree is = 0.252727\n"
     ]
    },
    {
     "name": "stderr",
     "output_type": "stream",
     "text": [
      "                                                                                \r"
     ]
    }
   ],
   "source": [
    "evaluator = MulticlassClassificationEvaluator(labelCol=\"categoryIndex\", predictionCol=\"prediction\", metricName=\"f1\")\n",
    "dt_f1 = evaluator.evaluate(dt_predictions)\n",
    "print(\"F1 of Decision Tree is = %g\"% (dt_f1))"
   ]
  },
  {
   "cell_type": "markdown",
   "id": "eb5a0e99",
   "metadata": {},
   "source": [
    "### Logistic Regression"
   ]
  },
  {
   "cell_type": "code",
   "execution_count": 17,
   "id": "ad7d813f-4f34-40f8-b571-8c0140e61798",
   "metadata": {
    "scrolled": true
   },
   "outputs": [
    {
     "name": "stderr",
     "output_type": "stream",
     "text": [
      "2022-07-10 14:29:01,720 WARN netlib.BLAS: Failed to load implementation from: com.github.fommil.netlib.NativeSystemBLAS\n",
      "2022-07-10 14:29:01,721 WARN netlib.BLAS: Failed to load implementation from: com.github.fommil.netlib.NativeRefBLAS\n",
      "[Stage 50:=============================>                            (1 + 1) / 2]2022-07-10 14:29:14,043 ERROR util.Utils: Uncaught exception in thread task-result-getter-3\n",
      "java.lang.OutOfMemoryError: Java heap space\n",
      "\tat java.lang.reflect.Array.newArray(Native Method)\n",
      "\tat java.lang.reflect.Array.newInstance(Array.java:75)\n",
      "\tat java.io.ObjectInputStream.readArray(ObjectInputStream.java:2057)\n",
      "\tat java.io.ObjectInputStream.readObject0(ObjectInputStream.java:1655)\n",
      "\tat java.io.ObjectInputStream.defaultReadFields(ObjectInputStream.java:2405)\n",
      "\tat java.io.ObjectInputStream.readSerialData(ObjectInputStream.java:2329)\n",
      "\tat java.io.ObjectInputStream.readOrdinaryObject(ObjectInputStream.java:2187)\n",
      "\tat java.io.ObjectInputStream.readObject0(ObjectInputStream.java:1667)\n",
      "\tat java.io.ObjectInputStream.readObject(ObjectInputStream.java:503)\n",
      "\tat java.io.ObjectInputStream.readObject(ObjectInputStream.java:461)\n",
      "\tat org.apache.spark.serializer.JavaDeserializationStream.readObject(JavaSerializer.scala:75)\n",
      "\tat org.apache.spark.serializer.JavaSerializerInstance.deserialize(JavaSerializer.scala:108)\n",
      "\tat org.apache.spark.scheduler.DirectTaskResult.value(TaskResult.scala:88)\n",
      "\tat org.apache.spark.scheduler.TaskResultGetter$$anon$3$$anonfun$run$1.apply$mcV$sp(TaskResultGetter.scala:100)\n",
      "\tat org.apache.spark.scheduler.TaskResultGetter$$anon$3$$anonfun$run$1.apply(TaskResultGetter.scala:63)\n",
      "\tat org.apache.spark.scheduler.TaskResultGetter$$anon$3$$anonfun$run$1.apply(TaskResultGetter.scala:63)\n",
      "\tat org.apache.spark.util.Utils$.logUncaughtExceptions(Utils.scala:1945)\n",
      "\tat org.apache.spark.scheduler.TaskResultGetter$$anon$3.run(TaskResultGetter.scala:62)\n",
      "\tat java.util.concurrent.ThreadPoolExecutor.runWorker(ThreadPoolExecutor.java:1149)\n",
      "\tat java.util.concurrent.ThreadPoolExecutor$Worker.run(ThreadPoolExecutor.java:624)\n",
      "\tat java.lang.Thread.run(Thread.java:748)\n",
      "Exception in thread \"task-result-getter-3\" java.lang.OutOfMemoryError: Java heap space\n",
      "\tat java.lang.reflect.Array.newArray(Native Method)\n",
      "\tat java.lang.reflect.Array.newInstance(Array.java:75)\n",
      "\tat java.io.ObjectInputStream.readArray(ObjectInputStream.java:2057)\n",
      "\tat java.io.ObjectInputStream.readObject0(ObjectInputStream.java:1655)\n",
      "\tat java.io.ObjectInputStream.defaultReadFields(ObjectInputStream.java:2405)\n",
      "\tat java.io.ObjectInputStream.readSerialData(ObjectInputStream.java:2329)\n",
      "\tat java.io.ObjectInputStream.readOrdinaryObject(ObjectInputStream.java:2187)\n",
      "\tat java.io.ObjectInputStream.readObject0(ObjectInputStream.java:1667)\n",
      "\tat java.io.ObjectInputStream.readObject(ObjectInputStream.java:503)\n",
      "\tat java.io.ObjectInputStream.readObject(ObjectInputStream.java:461)\n",
      "\tat org.apache.spark.serializer.JavaDeserializationStream.readObject(JavaSerializer.scala:75)\n",
      "\tat org.apache.spark.serializer.JavaSerializerInstance.deserialize(JavaSerializer.scala:108)\n",
      "\tat org.apache.spark.scheduler.DirectTaskResult.value(TaskResult.scala:88)\n",
      "\tat org.apache.spark.scheduler.TaskResultGetter$$anon$3$$anonfun$run$1.apply$mcV$sp(TaskResultGetter.scala:100)\n",
      "\tat org.apache.spark.scheduler.TaskResultGetter$$anon$3$$anonfun$run$1.apply(TaskResultGetter.scala:63)\n",
      "\tat org.apache.spark.scheduler.TaskResultGetter$$anon$3$$anonfun$run$1.apply(TaskResultGetter.scala:63)\n",
      "\tat org.apache.spark.util.Utils$.logUncaughtExceptions(Utils.scala:1945)\n",
      "\tat org.apache.spark.scheduler.TaskResultGetter$$anon$3.run(TaskResultGetter.scala:62)\n",
      "\tat java.util.concurrent.ThreadPoolExecutor.runWorker(ThreadPoolExecutor.java:1149)\n",
      "\tat java.util.concurrent.ThreadPoolExecutor$Worker.run(ThreadPoolExecutor.java:624)\n",
      "\tat java.lang.Thread.run(Thread.java:748)\n",
      "[Stage 50:=============================>                            (1 + 1) / 2]"
     ]
    },
    {
     "ename": "KeyboardInterrupt",
     "evalue": "",
     "output_type": "error",
     "traceback": [
      "\u001b[0;31m---------------------------------------------------------------------------\u001b[0m",
      "\u001b[0;31mKeyboardInterrupt\u001b[0m                         Traceback (most recent call last)",
      "\u001b[0;32m/tmp/ipykernel_1948/4192332951.py\u001b[0m in \u001b[0;36m<module>\u001b[0;34m\u001b[0m\n\u001b[1;32m      1\u001b[0m \u001b[0mlr_save\u001b[0m \u001b[0;34m=\u001b[0m \u001b[0mmodel_path\u001b[0m \u001b[0;34m+\u001b[0m \u001b[0;34m\"lr_model\"\u001b[0m\u001b[0;34m\u001b[0m\u001b[0;34m\u001b[0m\u001b[0m\n\u001b[1;32m      2\u001b[0m \u001b[0mlr\u001b[0m \u001b[0;34m=\u001b[0m \u001b[0mLogisticRegression\u001b[0m\u001b[0;34m(\u001b[0m\u001b[0mlabelCol\u001b[0m\u001b[0;34m=\u001b[0m\u001b[0;34m\"categoryIndex\"\u001b[0m\u001b[0;34m,\u001b[0m \u001b[0mfeaturesCol\u001b[0m\u001b[0;34m=\u001b[0m\u001b[0;34m\"tf_idf_features\"\u001b[0m\u001b[0;34m,\u001b[0m \u001b[0mmaxIter\u001b[0m\u001b[0;34m=\u001b[0m\u001b[0;36m10\u001b[0m\u001b[0;34m)\u001b[0m\u001b[0;34m\u001b[0m\u001b[0;34m\u001b[0m\u001b[0m\n\u001b[0;32m----> 3\u001b[0;31m \u001b[0mlrModel\u001b[0m \u001b[0;34m=\u001b[0m \u001b[0mlr\u001b[0m\u001b[0;34m.\u001b[0m\u001b[0mfit\u001b[0m\u001b[0;34m(\u001b[0m\u001b[0mtrain\u001b[0m\u001b[0;34m)\u001b[0m\u001b[0;34m\u001b[0m\u001b[0;34m\u001b[0m\u001b[0m\n\u001b[0m\u001b[1;32m      4\u001b[0m \u001b[0mlrModel\u001b[0m\u001b[0;34m.\u001b[0m\u001b[0msave\u001b[0m\u001b[0;34m(\u001b[0m\u001b[0mlr_save\u001b[0m\u001b[0;34m)\u001b[0m\u001b[0;34m\u001b[0m\u001b[0;34m\u001b[0m\u001b[0m\n",
      "\u001b[0;32m/usr/spark/python/pyspark/ml/base.py\u001b[0m in \u001b[0;36mfit\u001b[0;34m(self, dataset, params)\u001b[0m\n\u001b[1;32m    130\u001b[0m                 \u001b[0;32mreturn\u001b[0m \u001b[0mself\u001b[0m\u001b[0;34m.\u001b[0m\u001b[0mcopy\u001b[0m\u001b[0;34m(\u001b[0m\u001b[0mparams\u001b[0m\u001b[0;34m)\u001b[0m\u001b[0;34m.\u001b[0m\u001b[0m_fit\u001b[0m\u001b[0;34m(\u001b[0m\u001b[0mdataset\u001b[0m\u001b[0;34m)\u001b[0m\u001b[0;34m\u001b[0m\u001b[0;34m\u001b[0m\u001b[0m\n\u001b[1;32m    131\u001b[0m             \u001b[0;32melse\u001b[0m\u001b[0;34m:\u001b[0m\u001b[0;34m\u001b[0m\u001b[0;34m\u001b[0m\u001b[0m\n\u001b[0;32m--> 132\u001b[0;31m                 \u001b[0;32mreturn\u001b[0m \u001b[0mself\u001b[0m\u001b[0;34m.\u001b[0m\u001b[0m_fit\u001b[0m\u001b[0;34m(\u001b[0m\u001b[0mdataset\u001b[0m\u001b[0;34m)\u001b[0m\u001b[0;34m\u001b[0m\u001b[0;34m\u001b[0m\u001b[0m\n\u001b[0m\u001b[1;32m    133\u001b[0m         \u001b[0;32melse\u001b[0m\u001b[0;34m:\u001b[0m\u001b[0;34m\u001b[0m\u001b[0;34m\u001b[0m\u001b[0m\n\u001b[1;32m    134\u001b[0m             raise ValueError(\"Params must be either a param map or a list/tuple of param maps, \"\n",
      "\u001b[0;32m/usr/spark/python/pyspark/ml/wrapper.py\u001b[0m in \u001b[0;36m_fit\u001b[0;34m(self, dataset)\u001b[0m\n\u001b[1;32m    293\u001b[0m \u001b[0;34m\u001b[0m\u001b[0m\n\u001b[1;32m    294\u001b[0m     \u001b[0;32mdef\u001b[0m \u001b[0m_fit\u001b[0m\u001b[0;34m(\u001b[0m\u001b[0mself\u001b[0m\u001b[0;34m,\u001b[0m \u001b[0mdataset\u001b[0m\u001b[0;34m)\u001b[0m\u001b[0;34m:\u001b[0m\u001b[0;34m\u001b[0m\u001b[0;34m\u001b[0m\u001b[0m\n\u001b[0;32m--> 295\u001b[0;31m         \u001b[0mjava_model\u001b[0m \u001b[0;34m=\u001b[0m \u001b[0mself\u001b[0m\u001b[0;34m.\u001b[0m\u001b[0m_fit_java\u001b[0m\u001b[0;34m(\u001b[0m\u001b[0mdataset\u001b[0m\u001b[0;34m)\u001b[0m\u001b[0;34m\u001b[0m\u001b[0;34m\u001b[0m\u001b[0m\n\u001b[0m\u001b[1;32m    296\u001b[0m         \u001b[0mmodel\u001b[0m \u001b[0;34m=\u001b[0m \u001b[0mself\u001b[0m\u001b[0;34m.\u001b[0m\u001b[0m_create_model\u001b[0m\u001b[0;34m(\u001b[0m\u001b[0mjava_model\u001b[0m\u001b[0;34m)\u001b[0m\u001b[0;34m\u001b[0m\u001b[0;34m\u001b[0m\u001b[0m\n\u001b[1;32m    297\u001b[0m         \u001b[0;32mreturn\u001b[0m \u001b[0mself\u001b[0m\u001b[0;34m.\u001b[0m\u001b[0m_copyValues\u001b[0m\u001b[0;34m(\u001b[0m\u001b[0mmodel\u001b[0m\u001b[0;34m)\u001b[0m\u001b[0;34m\u001b[0m\u001b[0;34m\u001b[0m\u001b[0m\n",
      "\u001b[0;32m/usr/spark/python/pyspark/ml/wrapper.py\u001b[0m in \u001b[0;36m_fit_java\u001b[0;34m(self, dataset)\u001b[0m\n\u001b[1;32m    290\u001b[0m         \"\"\"\n\u001b[1;32m    291\u001b[0m         \u001b[0mself\u001b[0m\u001b[0;34m.\u001b[0m\u001b[0m_transfer_params_to_java\u001b[0m\u001b[0;34m(\u001b[0m\u001b[0;34m)\u001b[0m\u001b[0;34m\u001b[0m\u001b[0;34m\u001b[0m\u001b[0m\n\u001b[0;32m--> 292\u001b[0;31m         \u001b[0;32mreturn\u001b[0m \u001b[0mself\u001b[0m\u001b[0;34m.\u001b[0m\u001b[0m_java_obj\u001b[0m\u001b[0;34m.\u001b[0m\u001b[0mfit\u001b[0m\u001b[0;34m(\u001b[0m\u001b[0mdataset\u001b[0m\u001b[0;34m.\u001b[0m\u001b[0m_jdf\u001b[0m\u001b[0;34m)\u001b[0m\u001b[0;34m\u001b[0m\u001b[0;34m\u001b[0m\u001b[0m\n\u001b[0m\u001b[1;32m    293\u001b[0m \u001b[0;34m\u001b[0m\u001b[0m\n\u001b[1;32m    294\u001b[0m     \u001b[0;32mdef\u001b[0m \u001b[0m_fit\u001b[0m\u001b[0;34m(\u001b[0m\u001b[0mself\u001b[0m\u001b[0;34m,\u001b[0m \u001b[0mdataset\u001b[0m\u001b[0;34m)\u001b[0m\u001b[0;34m:\u001b[0m\u001b[0;34m\u001b[0m\u001b[0;34m\u001b[0m\u001b[0m\n",
      "\u001b[0;32m/usr/spark/python/lib/py4j-0.10.7-src.zip/py4j/java_gateway.py\u001b[0m in \u001b[0;36m__call__\u001b[0;34m(self, *args)\u001b[0m\n\u001b[1;32m   1253\u001b[0m             \u001b[0mproto\u001b[0m\u001b[0;34m.\u001b[0m\u001b[0mEND_COMMAND_PART\u001b[0m\u001b[0;34m\u001b[0m\u001b[0;34m\u001b[0m\u001b[0m\n\u001b[1;32m   1254\u001b[0m \u001b[0;34m\u001b[0m\u001b[0m\n\u001b[0;32m-> 1255\u001b[0;31m         \u001b[0manswer\u001b[0m \u001b[0;34m=\u001b[0m \u001b[0mself\u001b[0m\u001b[0;34m.\u001b[0m\u001b[0mgateway_client\u001b[0m\u001b[0;34m.\u001b[0m\u001b[0msend_command\u001b[0m\u001b[0;34m(\u001b[0m\u001b[0mcommand\u001b[0m\u001b[0;34m)\u001b[0m\u001b[0;34m\u001b[0m\u001b[0;34m\u001b[0m\u001b[0m\n\u001b[0m\u001b[1;32m   1256\u001b[0m         return_value = get_return_value(\n\u001b[1;32m   1257\u001b[0m             answer, self.gateway_client, self.target_id, self.name)\n",
      "\u001b[0;32m/usr/spark/python/lib/py4j-0.10.7-src.zip/py4j/java_gateway.py\u001b[0m in \u001b[0;36msend_command\u001b[0;34m(self, command, retry, binary)\u001b[0m\n\u001b[1;32m    983\u001b[0m         \u001b[0mconnection\u001b[0m \u001b[0;34m=\u001b[0m \u001b[0mself\u001b[0m\u001b[0;34m.\u001b[0m\u001b[0m_get_connection\u001b[0m\u001b[0;34m(\u001b[0m\u001b[0;34m)\u001b[0m\u001b[0;34m\u001b[0m\u001b[0;34m\u001b[0m\u001b[0m\n\u001b[1;32m    984\u001b[0m         \u001b[0;32mtry\u001b[0m\u001b[0;34m:\u001b[0m\u001b[0;34m\u001b[0m\u001b[0;34m\u001b[0m\u001b[0m\n\u001b[0;32m--> 985\u001b[0;31m             \u001b[0mresponse\u001b[0m \u001b[0;34m=\u001b[0m \u001b[0mconnection\u001b[0m\u001b[0;34m.\u001b[0m\u001b[0msend_command\u001b[0m\u001b[0;34m(\u001b[0m\u001b[0mcommand\u001b[0m\u001b[0;34m)\u001b[0m\u001b[0;34m\u001b[0m\u001b[0;34m\u001b[0m\u001b[0m\n\u001b[0m\u001b[1;32m    986\u001b[0m             \u001b[0;32mif\u001b[0m \u001b[0mbinary\u001b[0m\u001b[0;34m:\u001b[0m\u001b[0;34m\u001b[0m\u001b[0;34m\u001b[0m\u001b[0m\n\u001b[1;32m    987\u001b[0m                 \u001b[0;32mreturn\u001b[0m \u001b[0mresponse\u001b[0m\u001b[0;34m,\u001b[0m \u001b[0mself\u001b[0m\u001b[0;34m.\u001b[0m\u001b[0m_create_connection_guard\u001b[0m\u001b[0;34m(\u001b[0m\u001b[0mconnection\u001b[0m\u001b[0;34m)\u001b[0m\u001b[0;34m\u001b[0m\u001b[0;34m\u001b[0m\u001b[0m\n",
      "\u001b[0;32m/usr/spark/python/lib/py4j-0.10.7-src.zip/py4j/java_gateway.py\u001b[0m in \u001b[0;36msend_command\u001b[0;34m(self, command)\u001b[0m\n\u001b[1;32m   1150\u001b[0m \u001b[0;34m\u001b[0m\u001b[0m\n\u001b[1;32m   1151\u001b[0m         \u001b[0;32mtry\u001b[0m\u001b[0;34m:\u001b[0m\u001b[0;34m\u001b[0m\u001b[0;34m\u001b[0m\u001b[0m\n\u001b[0;32m-> 1152\u001b[0;31m             \u001b[0manswer\u001b[0m \u001b[0;34m=\u001b[0m \u001b[0msmart_decode\u001b[0m\u001b[0;34m(\u001b[0m\u001b[0mself\u001b[0m\u001b[0;34m.\u001b[0m\u001b[0mstream\u001b[0m\u001b[0;34m.\u001b[0m\u001b[0mreadline\u001b[0m\u001b[0;34m(\u001b[0m\u001b[0;34m)\u001b[0m\u001b[0;34m[\u001b[0m\u001b[0;34m:\u001b[0m\u001b[0;34m-\u001b[0m\u001b[0;36m1\u001b[0m\u001b[0;34m]\u001b[0m\u001b[0;34m)\u001b[0m\u001b[0;34m\u001b[0m\u001b[0;34m\u001b[0m\u001b[0m\n\u001b[0m\u001b[1;32m   1153\u001b[0m             \u001b[0mlogger\u001b[0m\u001b[0;34m.\u001b[0m\u001b[0mdebug\u001b[0m\u001b[0;34m(\u001b[0m\u001b[0;34m\"Answer received: {0}\"\u001b[0m\u001b[0;34m.\u001b[0m\u001b[0mformat\u001b[0m\u001b[0;34m(\u001b[0m\u001b[0manswer\u001b[0m\u001b[0;34m)\u001b[0m\u001b[0;34m)\u001b[0m\u001b[0;34m\u001b[0m\u001b[0;34m\u001b[0m\u001b[0m\n\u001b[1;32m   1154\u001b[0m             \u001b[0;32mif\u001b[0m \u001b[0manswer\u001b[0m\u001b[0;34m.\u001b[0m\u001b[0mstartswith\u001b[0m\u001b[0;34m(\u001b[0m\u001b[0mproto\u001b[0m\u001b[0;34m.\u001b[0m\u001b[0mRETURN_MESSAGE\u001b[0m\u001b[0;34m)\u001b[0m\u001b[0;34m:\u001b[0m\u001b[0;34m\u001b[0m\u001b[0;34m\u001b[0m\u001b[0m\n",
      "\u001b[0;32m/usr/lib/python3.7/socket.py\u001b[0m in \u001b[0;36mreadinto\u001b[0;34m(self, b)\u001b[0m\n\u001b[1;32m    587\u001b[0m         \u001b[0;32mwhile\u001b[0m \u001b[0;32mTrue\u001b[0m\u001b[0;34m:\u001b[0m\u001b[0;34m\u001b[0m\u001b[0;34m\u001b[0m\u001b[0m\n\u001b[1;32m    588\u001b[0m             \u001b[0;32mtry\u001b[0m\u001b[0;34m:\u001b[0m\u001b[0;34m\u001b[0m\u001b[0;34m\u001b[0m\u001b[0m\n\u001b[0;32m--> 589\u001b[0;31m                 \u001b[0;32mreturn\u001b[0m \u001b[0mself\u001b[0m\u001b[0;34m.\u001b[0m\u001b[0m_sock\u001b[0m\u001b[0;34m.\u001b[0m\u001b[0mrecv_into\u001b[0m\u001b[0;34m(\u001b[0m\u001b[0mb\u001b[0m\u001b[0;34m)\u001b[0m\u001b[0;34m\u001b[0m\u001b[0;34m\u001b[0m\u001b[0m\n\u001b[0m\u001b[1;32m    590\u001b[0m             \u001b[0;32mexcept\u001b[0m \u001b[0mtimeout\u001b[0m\u001b[0;34m:\u001b[0m\u001b[0;34m\u001b[0m\u001b[0;34m\u001b[0m\u001b[0m\n\u001b[1;32m    591\u001b[0m                 \u001b[0mself\u001b[0m\u001b[0;34m.\u001b[0m\u001b[0m_timeout_occurred\u001b[0m \u001b[0;34m=\u001b[0m \u001b[0;32mTrue\u001b[0m\u001b[0;34m\u001b[0m\u001b[0;34m\u001b[0m\u001b[0m\n",
      "\u001b[0;31mKeyboardInterrupt\u001b[0m: "
     ]
    }
   ],
   "source": [
    "lr_save = model_path + \"lr_model\"\n",
    "lr = LogisticRegression(labelCol=\"categoryIndex\", featuresCol=\"tf_idf_features\", maxIter=10)\n",
    "lrModel = lr.fit(train)\n",
    "lrModel.save(lr_save)"
   ]
  },
  {
   "cell_type": "code",
   "execution_count": 18,
   "id": "c362e966-c6af-48f2-bbed-fbe768171497",
   "metadata": {},
   "outputs": [
    {
     "ename": "Py4JNetworkError",
     "evalue": "An error occurred while trying to connect to the Java server (127.0.0.1:32869)",
     "output_type": "error",
     "traceback": [
      "\u001b[0;31m---------------------------------------------------------------------------\u001b[0m",
      "\u001b[0;31mIndexError\u001b[0m                                Traceback (most recent call last)",
      "\u001b[0;32m/usr/spark/python/lib/py4j-0.10.7-src.zip/py4j/java_gateway.py\u001b[0m in \u001b[0;36m_get_connection\u001b[0;34m(self)\u001b[0m\n\u001b[1;32m    928\u001b[0m         \u001b[0;32mtry\u001b[0m\u001b[0;34m:\u001b[0m\u001b[0;34m\u001b[0m\u001b[0;34m\u001b[0m\u001b[0m\n\u001b[0;32m--> 929\u001b[0;31m             \u001b[0mconnection\u001b[0m \u001b[0;34m=\u001b[0m \u001b[0mself\u001b[0m\u001b[0;34m.\u001b[0m\u001b[0mdeque\u001b[0m\u001b[0;34m.\u001b[0m\u001b[0mpop\u001b[0m\u001b[0;34m(\u001b[0m\u001b[0;34m)\u001b[0m\u001b[0;34m\u001b[0m\u001b[0;34m\u001b[0m\u001b[0m\n\u001b[0m\u001b[1;32m    930\u001b[0m         \u001b[0;32mexcept\u001b[0m \u001b[0mIndexError\u001b[0m\u001b[0;34m:\u001b[0m\u001b[0;34m\u001b[0m\u001b[0;34m\u001b[0m\u001b[0m\n",
      "\u001b[0;31mIndexError\u001b[0m: pop from an empty deque",
      "\nDuring handling of the above exception, another exception occurred:\n",
      "\u001b[0;31mConnectionRefusedError\u001b[0m                    Traceback (most recent call last)",
      "\u001b[0;32m/usr/spark/python/lib/py4j-0.10.7-src.zip/py4j/java_gateway.py\u001b[0m in \u001b[0;36mstart\u001b[0;34m(self)\u001b[0m\n\u001b[1;32m   1066\u001b[0m         \u001b[0;32mtry\u001b[0m\u001b[0;34m:\u001b[0m\u001b[0;34m\u001b[0m\u001b[0;34m\u001b[0m\u001b[0m\n\u001b[0;32m-> 1067\u001b[0;31m             \u001b[0mself\u001b[0m\u001b[0;34m.\u001b[0m\u001b[0msocket\u001b[0m\u001b[0;34m.\u001b[0m\u001b[0mconnect\u001b[0m\u001b[0;34m(\u001b[0m\u001b[0;34m(\u001b[0m\u001b[0mself\u001b[0m\u001b[0;34m.\u001b[0m\u001b[0maddress\u001b[0m\u001b[0;34m,\u001b[0m \u001b[0mself\u001b[0m\u001b[0;34m.\u001b[0m\u001b[0mport\u001b[0m\u001b[0;34m)\u001b[0m\u001b[0;34m)\u001b[0m\u001b[0;34m\u001b[0m\u001b[0;34m\u001b[0m\u001b[0m\n\u001b[0m\u001b[1;32m   1068\u001b[0m             \u001b[0mself\u001b[0m\u001b[0;34m.\u001b[0m\u001b[0mstream\u001b[0m \u001b[0;34m=\u001b[0m \u001b[0mself\u001b[0m\u001b[0;34m.\u001b[0m\u001b[0msocket\u001b[0m\u001b[0;34m.\u001b[0m\u001b[0mmakefile\u001b[0m\u001b[0;34m(\u001b[0m\u001b[0;34m\"rb\"\u001b[0m\u001b[0;34m)\u001b[0m\u001b[0;34m\u001b[0m\u001b[0;34m\u001b[0m\u001b[0m\n",
      "\u001b[0;31mConnectionRefusedError\u001b[0m: [Errno 111] Connection refused",
      "\nDuring handling of the above exception, another exception occurred:\n",
      "\u001b[0;31mPy4JNetworkError\u001b[0m                          Traceback (most recent call last)",
      "\u001b[0;32m/tmp/ipykernel_1948/1227317585.py\u001b[0m in \u001b[0;36m<module>\u001b[0;34m\u001b[0m\n\u001b[0;32m----> 1\u001b[0;31m \u001b[0mfullContents\u001b[0m \u001b[0;34m=\u001b[0m \u001b[0mspark\u001b[0m\u001b[0;34m.\u001b[0m\u001b[0mread\u001b[0m\u001b[0;34m.\u001b[0m\u001b[0mformat\u001b[0m\u001b[0;34m(\u001b[0m\u001b[0;34m\"csv\"\u001b[0m\u001b[0;34m)\u001b[0m\u001b[0;34m.\u001b[0m\u001b[0moption\u001b[0m\u001b[0;34m(\u001b[0m\u001b[0;34m\"inferSchema\"\u001b[0m\u001b[0;34m,\u001b[0m \u001b[0;32mTrue\u001b[0m\u001b[0;34m)\u001b[0m\u001b[0;34m.\u001b[0m\u001b[0moption\u001b[0m\u001b[0;34m(\u001b[0m\u001b[0;34m\"header\"\u001b[0m\u001b[0;34m,\u001b[0m \u001b[0;32mTrue\u001b[0m\u001b[0;34m)\u001b[0m\u001b[0;34m.\u001b[0m\u001b[0moption\u001b[0m\u001b[0;34m(\u001b[0m\u001b[0;34m\"delimiter\"\u001b[0m\u001b[0;34m,\u001b[0m\u001b[0;34m\"\\t\"\u001b[0m\u001b[0;34m)\u001b[0m\u001b[0;34m.\u001b[0m\u001b[0mload\u001b[0m\u001b[0;34m(\u001b[0m\u001b[0;34m\"/data/train/fullContents\"\u001b[0m\u001b[0;34m)\u001b[0m\u001b[0;34m\u001b[0m\u001b[0;34m\u001b[0m\u001b[0m\n\u001b[0m\u001b[1;32m      2\u001b[0m \u001b[0mfullContents\u001b[0m\u001b[0;34m.\u001b[0m\u001b[0mshow\u001b[0m\u001b[0;34m(\u001b[0m\u001b[0;36m5\u001b[0m\u001b[0;34m)\u001b[0m\u001b[0;34m\u001b[0m\u001b[0;34m\u001b[0m\u001b[0m\n",
      "\u001b[0;32m/usr/spark/python/pyspark/sql/session.py\u001b[0m in \u001b[0;36mread\u001b[0;34m(self)\u001b[0m\n\u001b[1;32m    789\u001b[0m         \u001b[0;34m:\u001b[0m\u001b[0;32mreturn\u001b[0m\u001b[0;34m:\u001b[0m \u001b[0;34m:\u001b[0m\u001b[0;32mclass\u001b[0m\u001b[0;34m:\u001b[0m\u001b[0;31m`\u001b[0m\u001b[0mDataFrameReader\u001b[0m\u001b[0;31m`\u001b[0m\u001b[0;34m\u001b[0m\u001b[0;34m\u001b[0m\u001b[0m\n\u001b[1;32m    790\u001b[0m         \"\"\"\n\u001b[0;32m--> 791\u001b[0;31m         \u001b[0;32mreturn\u001b[0m \u001b[0mDataFrameReader\u001b[0m\u001b[0;34m(\u001b[0m\u001b[0mself\u001b[0m\u001b[0;34m.\u001b[0m\u001b[0m_wrapped\u001b[0m\u001b[0;34m)\u001b[0m\u001b[0;34m\u001b[0m\u001b[0;34m\u001b[0m\u001b[0m\n\u001b[0m\u001b[1;32m    792\u001b[0m \u001b[0;34m\u001b[0m\u001b[0m\n\u001b[1;32m    793\u001b[0m     \u001b[0;34m@\u001b[0m\u001b[0mproperty\u001b[0m\u001b[0;34m\u001b[0m\u001b[0;34m\u001b[0m\u001b[0m\n",
      "\u001b[0;32m/usr/spark/python/pyspark/sql/readwriter.py\u001b[0m in \u001b[0;36m__init__\u001b[0;34m(self, spark)\u001b[0m\n\u001b[1;32m     68\u001b[0m \u001b[0;34m\u001b[0m\u001b[0m\n\u001b[1;32m     69\u001b[0m     \u001b[0;32mdef\u001b[0m \u001b[0m__init__\u001b[0m\u001b[0;34m(\u001b[0m\u001b[0mself\u001b[0m\u001b[0;34m,\u001b[0m \u001b[0mspark\u001b[0m\u001b[0;34m)\u001b[0m\u001b[0;34m:\u001b[0m\u001b[0;34m\u001b[0m\u001b[0;34m\u001b[0m\u001b[0m\n\u001b[0;32m---> 70\u001b[0;31m         \u001b[0mself\u001b[0m\u001b[0;34m.\u001b[0m\u001b[0m_jreader\u001b[0m \u001b[0;34m=\u001b[0m \u001b[0mspark\u001b[0m\u001b[0;34m.\u001b[0m\u001b[0m_ssql_ctx\u001b[0m\u001b[0;34m.\u001b[0m\u001b[0mread\u001b[0m\u001b[0;34m(\u001b[0m\u001b[0;34m)\u001b[0m\u001b[0;34m\u001b[0m\u001b[0;34m\u001b[0m\u001b[0m\n\u001b[0m\u001b[1;32m     71\u001b[0m         \u001b[0mself\u001b[0m\u001b[0;34m.\u001b[0m\u001b[0m_spark\u001b[0m \u001b[0;34m=\u001b[0m \u001b[0mspark\u001b[0m\u001b[0;34m\u001b[0m\u001b[0;34m\u001b[0m\u001b[0m\n\u001b[1;32m     72\u001b[0m \u001b[0;34m\u001b[0m\u001b[0m\n",
      "\u001b[0;32m/usr/spark/python/lib/py4j-0.10.7-src.zip/py4j/java_gateway.py\u001b[0m in \u001b[0;36m__call__\u001b[0;34m(self, *args)\u001b[0m\n\u001b[1;32m   1253\u001b[0m             \u001b[0mproto\u001b[0m\u001b[0;34m.\u001b[0m\u001b[0mEND_COMMAND_PART\u001b[0m\u001b[0;34m\u001b[0m\u001b[0;34m\u001b[0m\u001b[0m\n\u001b[1;32m   1254\u001b[0m \u001b[0;34m\u001b[0m\u001b[0m\n\u001b[0;32m-> 1255\u001b[0;31m         \u001b[0manswer\u001b[0m \u001b[0;34m=\u001b[0m \u001b[0mself\u001b[0m\u001b[0;34m.\u001b[0m\u001b[0mgateway_client\u001b[0m\u001b[0;34m.\u001b[0m\u001b[0msend_command\u001b[0m\u001b[0;34m(\u001b[0m\u001b[0mcommand\u001b[0m\u001b[0;34m)\u001b[0m\u001b[0;34m\u001b[0m\u001b[0;34m\u001b[0m\u001b[0m\n\u001b[0m\u001b[1;32m   1256\u001b[0m         return_value = get_return_value(\n\u001b[1;32m   1257\u001b[0m             answer, self.gateway_client, self.target_id, self.name)\n",
      "\u001b[0;32m/usr/spark/python/lib/py4j-0.10.7-src.zip/py4j/java_gateway.py\u001b[0m in \u001b[0;36msend_command\u001b[0;34m(self, command, retry, binary)\u001b[0m\n\u001b[1;32m    981\u001b[0m          \u001b[0;32mif\u001b[0m\u001b[0;31m \u001b[0m\u001b[0;31m`\u001b[0m\u001b[0mbinary\u001b[0m\u001b[0;31m`\u001b[0m \u001b[0;32mis\u001b[0m\u001b[0;31m \u001b[0m\u001b[0;31m`\u001b[0m\u001b[0;32mTrue\u001b[0m\u001b[0;31m`\u001b[0m\u001b[0;34m.\u001b[0m\u001b[0;34m\u001b[0m\u001b[0;34m\u001b[0m\u001b[0m\n\u001b[1;32m    982\u001b[0m         \"\"\"\n\u001b[0;32m--> 983\u001b[0;31m         \u001b[0mconnection\u001b[0m \u001b[0;34m=\u001b[0m \u001b[0mself\u001b[0m\u001b[0;34m.\u001b[0m\u001b[0m_get_connection\u001b[0m\u001b[0;34m(\u001b[0m\u001b[0;34m)\u001b[0m\u001b[0;34m\u001b[0m\u001b[0;34m\u001b[0m\u001b[0m\n\u001b[0m\u001b[1;32m    984\u001b[0m         \u001b[0;32mtry\u001b[0m\u001b[0;34m:\u001b[0m\u001b[0;34m\u001b[0m\u001b[0;34m\u001b[0m\u001b[0m\n\u001b[1;32m    985\u001b[0m             \u001b[0mresponse\u001b[0m \u001b[0;34m=\u001b[0m \u001b[0mconnection\u001b[0m\u001b[0;34m.\u001b[0m\u001b[0msend_command\u001b[0m\u001b[0;34m(\u001b[0m\u001b[0mcommand\u001b[0m\u001b[0;34m)\u001b[0m\u001b[0;34m\u001b[0m\u001b[0;34m\u001b[0m\u001b[0m\n",
      "\u001b[0;32m/usr/spark/python/lib/py4j-0.10.7-src.zip/py4j/java_gateway.py\u001b[0m in \u001b[0;36m_get_connection\u001b[0;34m(self)\u001b[0m\n\u001b[1;32m    929\u001b[0m             \u001b[0mconnection\u001b[0m \u001b[0;34m=\u001b[0m \u001b[0mself\u001b[0m\u001b[0;34m.\u001b[0m\u001b[0mdeque\u001b[0m\u001b[0;34m.\u001b[0m\u001b[0mpop\u001b[0m\u001b[0;34m(\u001b[0m\u001b[0;34m)\u001b[0m\u001b[0;34m\u001b[0m\u001b[0;34m\u001b[0m\u001b[0m\n\u001b[1;32m    930\u001b[0m         \u001b[0;32mexcept\u001b[0m \u001b[0mIndexError\u001b[0m\u001b[0;34m:\u001b[0m\u001b[0;34m\u001b[0m\u001b[0;34m\u001b[0m\u001b[0m\n\u001b[0;32m--> 931\u001b[0;31m             \u001b[0mconnection\u001b[0m \u001b[0;34m=\u001b[0m \u001b[0mself\u001b[0m\u001b[0;34m.\u001b[0m\u001b[0m_create_connection\u001b[0m\u001b[0;34m(\u001b[0m\u001b[0;34m)\u001b[0m\u001b[0;34m\u001b[0m\u001b[0;34m\u001b[0m\u001b[0m\n\u001b[0m\u001b[1;32m    932\u001b[0m         \u001b[0;32mreturn\u001b[0m \u001b[0mconnection\u001b[0m\u001b[0;34m\u001b[0m\u001b[0;34m\u001b[0m\u001b[0m\n\u001b[1;32m    933\u001b[0m \u001b[0;34m\u001b[0m\u001b[0m\n",
      "\u001b[0;32m/usr/spark/python/lib/py4j-0.10.7-src.zip/py4j/java_gateway.py\u001b[0m in \u001b[0;36m_create_connection\u001b[0;34m(self)\u001b[0m\n\u001b[1;32m    935\u001b[0m         connection = GatewayConnection(\n\u001b[1;32m    936\u001b[0m             self.gateway_parameters, self.gateway_property)\n\u001b[0;32m--> 937\u001b[0;31m         \u001b[0mconnection\u001b[0m\u001b[0;34m.\u001b[0m\u001b[0mstart\u001b[0m\u001b[0;34m(\u001b[0m\u001b[0;34m)\u001b[0m\u001b[0;34m\u001b[0m\u001b[0;34m\u001b[0m\u001b[0m\n\u001b[0m\u001b[1;32m    938\u001b[0m         \u001b[0;32mreturn\u001b[0m \u001b[0mconnection\u001b[0m\u001b[0;34m\u001b[0m\u001b[0;34m\u001b[0m\u001b[0m\n\u001b[1;32m    939\u001b[0m \u001b[0;34m\u001b[0m\u001b[0m\n",
      "\u001b[0;32m/usr/spark/python/lib/py4j-0.10.7-src.zip/py4j/java_gateway.py\u001b[0m in \u001b[0;36mstart\u001b[0;34m(self)\u001b[0m\n\u001b[1;32m   1077\u001b[0m                 \u001b[0;34m\"server ({0}:{1})\"\u001b[0m\u001b[0;34m.\u001b[0m\u001b[0mformat\u001b[0m\u001b[0;34m(\u001b[0m\u001b[0mself\u001b[0m\u001b[0;34m.\u001b[0m\u001b[0maddress\u001b[0m\u001b[0;34m,\u001b[0m \u001b[0mself\u001b[0m\u001b[0;34m.\u001b[0m\u001b[0mport\u001b[0m\u001b[0;34m)\u001b[0m\u001b[0;34m\u001b[0m\u001b[0;34m\u001b[0m\u001b[0m\n\u001b[1;32m   1078\u001b[0m             \u001b[0mlogger\u001b[0m\u001b[0;34m.\u001b[0m\u001b[0mexception\u001b[0m\u001b[0;34m(\u001b[0m\u001b[0mmsg\u001b[0m\u001b[0;34m)\u001b[0m\u001b[0;34m\u001b[0m\u001b[0;34m\u001b[0m\u001b[0m\n\u001b[0;32m-> 1079\u001b[0;31m             \u001b[0;32mraise\u001b[0m \u001b[0mPy4JNetworkError\u001b[0m\u001b[0;34m(\u001b[0m\u001b[0mmsg\u001b[0m\u001b[0;34m,\u001b[0m \u001b[0me\u001b[0m\u001b[0;34m)\u001b[0m\u001b[0;34m\u001b[0m\u001b[0;34m\u001b[0m\u001b[0m\n\u001b[0m\u001b[1;32m   1080\u001b[0m \u001b[0;34m\u001b[0m\u001b[0m\n\u001b[1;32m   1081\u001b[0m     \u001b[0;32mdef\u001b[0m \u001b[0m_authenticate_connection\u001b[0m\u001b[0;34m(\u001b[0m\u001b[0mself\u001b[0m\u001b[0;34m)\u001b[0m\u001b[0;34m:\u001b[0m\u001b[0;34m\u001b[0m\u001b[0;34m\u001b[0m\u001b[0m\n",
      "\u001b[0;31mPy4JNetworkError\u001b[0m: An error occurred while trying to connect to the Java server (127.0.0.1:32869)"
     ]
    }
   ],
   "source": [
    "fullContents = spark.read.format(\"csv\").option(\"inferSchema\", True).option(\"header\", True).option(\"delimiter\",\"\\t\").load(\"/data/train/fullContents\")\n",
    "fullContents.show(5)"
   ]
  },
  {
   "cell_type": "code",
   "execution_count": 15,
   "id": "9851c044-621e-495c-87e2-ee8720b5fbfd",
   "metadata": {},
   "outputs": [
    {
     "data": {
      "text/html": [
       "<div>\n",
       "<style scoped>\n",
       "    .dataframe tbody tr th:only-of-type {\n",
       "        vertical-align: middle;\n",
       "    }\n",
       "\n",
       "    .dataframe tbody tr th {\n",
       "        vertical-align: top;\n",
       "    }\n",
       "\n",
       "    .dataframe thead th {\n",
       "        text-align: right;\n",
       "    }\n",
       "</style>\n",
       "<table border=\"1\" class=\"dataframe\">\n",
       "  <thead>\n",
       "    <tr style=\"text-align: right;\">\n",
       "      <th></th>\n",
       "      <th>Unnamed: 0</th>\n",
       "      <th>URL</th>\n",
       "      <th>Title</th>\n",
       "      <th>Summary</th>\n",
       "      <th>Contents</th>\n",
       "      <th>Date</th>\n",
       "      <th>Author(s)</th>\n",
       "      <th>Category</th>\n",
       "      <th>Tags</th>\n",
       "    </tr>\n",
       "  </thead>\n",
       "  <tbody>\n",
       "    <tr>\n",
       "      <th>0</th>\n",
       "      <td>NaN</td>\n",
       "      <td>NaN</td>\n",
       "      <td>NaN</td>\n",
       "      <td>NaN</td>\n",
       "      <td>NaN</td>\n",
       "      <td>NaN</td>\n",
       "      <td>NaN</td>\n",
       "      <td>NaN</td>\n",
       "      <td>NaN</td>\n",
       "    </tr>\n",
       "    <tr>\n",
       "      <th>1</th>\n",
       "      <td>NaN</td>\n",
       "      <td>NaN</td>\n",
       "      <td>NaN</td>\n",
       "      <td>NaN</td>\n",
       "      <td>NaN</td>\n",
       "      <td>NaN</td>\n",
       "      <td>NaN</td>\n",
       "      <td>NaN</td>\n",
       "      <td>NaN</td>\n",
       "    </tr>\n",
       "    <tr>\n",
       "      <th>2</th>\n",
       "      <td>NaN</td>\n",
       "      <td>NaN</td>\n",
       "      <td>NaN</td>\n",
       "      <td>NaN</td>\n",
       "      <td>NaN</td>\n",
       "      <td>NaN</td>\n",
       "      <td>NaN</td>\n",
       "      <td>NaN</td>\n",
       "      <td>NaN</td>\n",
       "    </tr>\n",
       "    <tr>\n",
       "      <th>3</th>\n",
       "      <td>NaN</td>\n",
       "      <td>NaN</td>\n",
       "      <td>NaN</td>\n",
       "      <td>NaN</td>\n",
       "      <td>NaN</td>\n",
       "      <td>NaN</td>\n",
       "      <td>NaN</td>\n",
       "      <td>NaN</td>\n",
       "      <td>NaN</td>\n",
       "    </tr>\n",
       "    <tr>\n",
       "      <th>4</th>\n",
       "      <td>NaN</td>\n",
       "      <td>NaN</td>\n",
       "      <td>NaN</td>\n",
       "      <td>NaN</td>\n",
       "      <td>NaN</td>\n",
       "      <td>NaN</td>\n",
       "      <td>NaN</td>\n",
       "      <td>NaN</td>\n",
       "      <td>NaN</td>\n",
       "    </tr>\n",
       "    <tr>\n",
       "      <th>...</th>\n",
       "      <td>...</td>\n",
       "      <td>...</td>\n",
       "      <td>...</td>\n",
       "      <td>...</td>\n",
       "      <td>...</td>\n",
       "      <td>...</td>\n",
       "      <td>...</td>\n",
       "      <td>...</td>\n",
       "      <td>...</td>\n",
       "    </tr>\n",
       "    <tr>\n",
       "      <th>313315</th>\n",
       "      <td>NaN</td>\n",
       "      <td>NaN</td>\n",
       "      <td>NaN</td>\n",
       "      <td>NaN</td>\n",
       "      <td>NaN</td>\n",
       "      <td>NaN</td>\n",
       "      <td>NaN</td>\n",
       "      <td>NaN</td>\n",
       "      <td>NaN</td>\n",
       "    </tr>\n",
       "    <tr>\n",
       "      <th>313316</th>\n",
       "      <td>NaN</td>\n",
       "      <td>NaN</td>\n",
       "      <td>NaN</td>\n",
       "      <td>NaN</td>\n",
       "      <td>NaN</td>\n",
       "      <td>NaN</td>\n",
       "      <td>NaN</td>\n",
       "      <td>NaN</td>\n",
       "      <td>NaN</td>\n",
       "    </tr>\n",
       "    <tr>\n",
       "      <th>313317</th>\n",
       "      <td>NaN</td>\n",
       "      <td>NaN</td>\n",
       "      <td>NaN</td>\n",
       "      <td>NaN</td>\n",
       "      <td>NaN</td>\n",
       "      <td>NaN</td>\n",
       "      <td>NaN</td>\n",
       "      <td>NaN</td>\n",
       "      <td>NaN</td>\n",
       "    </tr>\n",
       "    <tr>\n",
       "      <th>313318</th>\n",
       "      <td>NaN</td>\n",
       "      <td>NaN</td>\n",
       "      <td>NaN</td>\n",
       "      <td>NaN</td>\n",
       "      <td>NaN</td>\n",
       "      <td>NaN</td>\n",
       "      <td>NaN</td>\n",
       "      <td>NaN</td>\n",
       "      <td>NaN</td>\n",
       "    </tr>\n",
       "    <tr>\n",
       "      <th>313319</th>\n",
       "      <td>NaN</td>\n",
       "      <td>NaN</td>\n",
       "      <td>NaN</td>\n",
       "      <td>NaN</td>\n",
       "      <td>NaN</td>\n",
       "      <td>NaN</td>\n",
       "      <td>NaN</td>\n",
       "      <td>NaN</td>\n",
       "      <td>NaN</td>\n",
       "    </tr>\n",
       "  </tbody>\n",
       "</table>\n",
       "<p>313320 rows × 9 columns</p>\n",
       "</div>"
      ],
      "text/plain": [
       "        Unnamed: 0  URL Title Summary Contents Date Author(s) Category Tags\n",
       "0              NaN  NaN   NaN     NaN      NaN  NaN       NaN      NaN  NaN\n",
       "1              NaN  NaN   NaN     NaN      NaN  NaN       NaN      NaN  NaN\n",
       "2              NaN  NaN   NaN     NaN      NaN  NaN       NaN      NaN  NaN\n",
       "3              NaN  NaN   NaN     NaN      NaN  NaN       NaN      NaN  NaN\n",
       "4              NaN  NaN   NaN     NaN      NaN  NaN       NaN      NaN  NaN\n",
       "...            ...  ...   ...     ...      ...  ...       ...      ...  ...\n",
       "313315         NaN  NaN   NaN     NaN      NaN  NaN       NaN      NaN  NaN\n",
       "313316         NaN  NaN   NaN     NaN      NaN  NaN       NaN      NaN  NaN\n",
       "313317         NaN  NaN   NaN     NaN      NaN  NaN       NaN      NaN  NaN\n",
       "313318         NaN  NaN   NaN     NaN      NaN  NaN       NaN      NaN  NaN\n",
       "313319         NaN  NaN   NaN     NaN      NaN  NaN       NaN      NaN  NaN\n",
       "\n",
       "[313320 rows x 9 columns]"
      ]
     },
     "execution_count": 15,
     "metadata": {},
     "output_type": "execute_result"
    }
   ],
   "source": []
  },
  {
   "cell_type": "code",
   "execution_count": 12,
   "id": "5fa2d4e3-abd8-4872-b564-bd35bcb04683",
   "metadata": {},
   "outputs": [
    {
     "data": {
      "text/html": [
       "<div>\n",
       "<style scoped>\n",
       "    .dataframe tbody tr th:only-of-type {\n",
       "        vertical-align: middle;\n",
       "    }\n",
       "\n",
       "    .dataframe tbody tr th {\n",
       "        vertical-align: top;\n",
       "    }\n",
       "\n",
       "    .dataframe thead th {\n",
       "        text-align: right;\n",
       "    }\n",
       "</style>\n",
       "<table border=\"1\" class=\"dataframe\">\n",
       "  <thead>\n",
       "    <tr style=\"text-align: right;\">\n",
       "      <th></th>\n",
       "      <th>Unnamed: 0</th>\n",
       "      <th>URL</th>\n",
       "      <th>Title</th>\n",
       "      <th>Summary</th>\n",
       "      <th>Contents</th>\n",
       "      <th>Date</th>\n",
       "      <th>Author(s)</th>\n",
       "      <th>Category</th>\n",
       "      <th>Tags</th>\n",
       "    </tr>\n",
       "  </thead>\n",
       "  <tbody>\n",
       "    <tr>\n",
       "      <th>0</th>\n",
       "      <td>0</td>\n",
       "      <td>https://laodong.vn/bat-dong-san/thong-tin-ngoc...</td>\n",
       "      <td>Thông tin “Ngọc Trinh mua đất ở Bảo Lộc\" chỉ l...</td>\n",
       "      <td>Lâm Đồng - Lãnh đạo thành phố Bảo Lộc, Lâm Đồn...</td>\n",
       "      <td>Những ngày vừa qua, trên trang Facebook chính ...</td>\n",
       "      <td>Thứ sáu, 20/05/2022 08:56 (GMT+7)</td>\n",
       "      <td>Phương Nhiên</td>\n",
       "      <td>Bất động sản</td>\n",
       "      <td>['Lâm Đồng', 'Ngọc Trinh', 'Chiêu trò', 'Giá đ...</td>\n",
       "    </tr>\n",
       "    <tr>\n",
       "      <th>1</th>\n",
       "      <td>1</td>\n",
       "      <td>https://laodong.vn/bat-dong-san/lo-hong-trong-...</td>\n",
       "      <td>Lỗ hổng trong việc thẩm tra năng lực tài chính...</td>\n",
       "      <td>TPHCM - Việc không thể cưỡng chế thuế của hai ...</td>\n",
       "      <td>Theo thông tin từ Cục Thuế TP.HCM, hiện cơ qua...</td>\n",
       "      <td>Thứ sáu, 20/05/2022 08:10 (GMT+7)</td>\n",
       "      <td>Gia Miêu</td>\n",
       "      <td>Bất động sản</td>\n",
       "      <td>['Thủ Thiêm', 'Đấu giá đất']</td>\n",
       "    </tr>\n",
       "    <tr>\n",
       "      <th>2</th>\n",
       "      <td>2</td>\n",
       "      <td>https://laodong.vn/bat-dong-san/som-hoan-thien...</td>\n",
       "      <td>Sớm hoàn thiện các dự án nhà ở xã hội để CNLĐ ...</td>\n",
       "      <td>Hiện trên địa bàn tỉnh Ninh Bình có 32 khu, cụ...</td>\n",
       "      <td>CNLĐ mong muốn sớm được tiếp cận với nhà ở xã ...</td>\n",
       "      <td>Thứ sáu, 20/05/2022 07:47 (GMT+7)</td>\n",
       "      <td>NGUYỄN TRƯỜNG</td>\n",
       "      <td>Bất động sản</td>\n",
       "      <td>['Dự án', 'Nhà ở xã hội', 'Dự án nhà ở xã hội'...</td>\n",
       "    </tr>\n",
       "    <tr>\n",
       "      <th>3</th>\n",
       "      <td>3</td>\n",
       "      <td>https://laodong.vn/bat-dong-san/chi-tiet-ho-so...</td>\n",
       "      <td>Chi tiết hồ sơ hoàn công nhà ở năm 2022</td>\n",
       "      <td>Hoàn công nhà ở với ý nghĩa là điều kiện để đư...</td>\n",
       "      <td>Hoàn công nhà ở là một thủ tục hành chính tron...</td>\n",
       "      <td>Thứ sáu, 20/05/2022 06:44 (GMT+7)</td>\n",
       "      <td>Kim Nhung (T/H)</td>\n",
       "      <td>Bất động sản</td>\n",
       "      <td>['Giấy phép xây dựng', 'Hồ sơ hoàn công', 'nhà...</td>\n",
       "    </tr>\n",
       "    <tr>\n",
       "      <th>4</th>\n",
       "      <td>4</td>\n",
       "      <td>https://laodong.vn/bat-dong-san/khoi-tao-khong...</td>\n",
       "      <td>Khởi tạo không gian sống đẳng cấp, đón sóng đầ...</td>\n",
       "      <td>Có rất nhiều lý do khiến những dự án thấp nội ...</td>\n",
       "      <td>Đi dọc đường Lê Văn Lương kéo dài xuống khu Dư...</td>\n",
       "      <td>Thứ năm, 19/05/2022 15:30 (GMT+7)</td>\n",
       "      <td>Huyền Nguyễn</td>\n",
       "      <td>Bất động sản</td>\n",
       "      <td>['An Quý Villa']</td>\n",
       "    </tr>\n",
       "    <tr>\n",
       "      <th>...</th>\n",
       "      <td>...</td>\n",
       "      <td>...</td>\n",
       "      <td>...</td>\n",
       "      <td>...</td>\n",
       "      <td>...</td>\n",
       "      <td>...</td>\n",
       "      <td>...</td>\n",
       "      <td>...</td>\n",
       "      <td>...</td>\n",
       "    </tr>\n",
       "    <tr>\n",
       "      <th>313315</th>\n",
       "      <td>313315</td>\n",
       "      <td>https://laodong.vn/tlv-canh-doi/ba-lao-mu-nuoi...</td>\n",
       "      <td>Bà lão mù nuôi con, cháu bị ảnh hưởng chất độc...</td>\n",
       "      <td>Bà Dương Thị Tuyết ở thị trấn Khe Sanh, huyện ...</td>\n",
       "      <td>NaN</td>\n",
       "      <td>Thứ tư, 14/08/2013 06:57 (GMT+7)</td>\n",
       "      <td>Lâm Hưng Thơ</td>\n",
       "      <td>Tấm Lòng Vàng</td>\n",
       "      <td>['Chất độc']</td>\n",
       "    </tr>\n",
       "    <tr>\n",
       "      <th>313316</th>\n",
       "      <td>313316</td>\n",
       "      <td>https://laodong.vn/ho-tro-bao-ve-chu-quyen-bie...</td>\n",
       "      <td>Trao 100 triệu đồng cho ngư dân Phú Yên</td>\n",
       "      <td>Ngày 25.7, Đại diện Chương trình “Tấm lưới ngh...</td>\n",
       "      <td>NaN</td>\n",
       "      <td>Thứ sáu, 26/07/2013 09:03 (GMT+7)</td>\n",
       "      <td>Lưu Phong</td>\n",
       "      <td>Tin hoạt động</td>\n",
       "      <td>['Phú Yên']</td>\n",
       "    </tr>\n",
       "    <tr>\n",
       "      <th>313317</th>\n",
       "      <td>313317</td>\n",
       "      <td>https://laodong.vn/giup-do-cac-canh-doi-kho-kh...</td>\n",
       "      <td>Trao 2 “Mái ấm công đoàn” tới CNVCLĐ khó khăn ...</td>\n",
       "      <td>Ngày 17.7, lãnh đạo Quỹ TLV Lao Động và LĐLĐ t...</td>\n",
       "      <td>NaN</td>\n",
       "      <td>Thứ năm, 18/07/2013 07:37 (GMT+7)</td>\n",
       "      <td>Bảo Duy</td>\n",
       "      <td>Tin hoạt động</td>\n",
       "      <td>['Mái ấm Công đoàn', 'Bắc Giang']</td>\n",
       "    </tr>\n",
       "    <tr>\n",
       "      <th>313318</th>\n",
       "      <td>313318</td>\n",
       "      <td>https://laodong.vn/tlv-canh-doi/hay-giup-do-mo...</td>\n",
       "      <td>Hãy giúp đỡ một nhà báo cần thay thận</td>\n",
       "      <td>Nhà báo Trần Đình Chính (tức Trần Hoài Thu) - ...</td>\n",
       "      <td>NaN</td>\n",
       "      <td>Thứ năm, 20/06/2013 07:28 (GMT+7)</td>\n",
       "      <td>Hoàng Mạnh - Phạm Tùng</td>\n",
       "      <td>Tấm Lòng Vàng</td>\n",
       "      <td>['Nhà báo', 'Báo']</td>\n",
       "    </tr>\n",
       "    <tr>\n",
       "      <th>313319</th>\n",
       "      <td>313319</td>\n",
       "      <td>https://laodong.vn/tlv-nhat-ky/nguoi-dan-ba-qu...</td>\n",
       "      <td>“Người đàn bà quỷ ám” ở Quảng Trị đã được nuôi...</td>\n",
       "      <td>Ngày 2.6, khi nhận được số tiền 500.000 đồng đ...</td>\n",
       "      <td>NaN</td>\n",
       "      <td>Chủ nhật, 16/06/2013 19:42 (GMT+7)</td>\n",
       "      <td>Đình Văn - Bảo Duy</td>\n",
       "      <td>Quỹ TLV</td>\n",
       "      <td>['Quảng Trị']</td>\n",
       "    </tr>\n",
       "  </tbody>\n",
       "</table>\n",
       "<p>313320 rows × 9 columns</p>\n",
       "</div>"
      ],
      "text/plain": [
       "        Unnamed: 0                                                URL  \\\n",
       "0                0  https://laodong.vn/bat-dong-san/thong-tin-ngoc...   \n",
       "1                1  https://laodong.vn/bat-dong-san/lo-hong-trong-...   \n",
       "2                2  https://laodong.vn/bat-dong-san/som-hoan-thien...   \n",
       "3                3  https://laodong.vn/bat-dong-san/chi-tiet-ho-so...   \n",
       "4                4  https://laodong.vn/bat-dong-san/khoi-tao-khong...   \n",
       "...            ...                                                ...   \n",
       "313315      313315  https://laodong.vn/tlv-canh-doi/ba-lao-mu-nuoi...   \n",
       "313316      313316  https://laodong.vn/ho-tro-bao-ve-chu-quyen-bie...   \n",
       "313317      313317  https://laodong.vn/giup-do-cac-canh-doi-kho-kh...   \n",
       "313318      313318  https://laodong.vn/tlv-canh-doi/hay-giup-do-mo...   \n",
       "313319      313319  https://laodong.vn/tlv-nhat-ky/nguoi-dan-ba-qu...   \n",
       "\n",
       "                                                    Title  \\\n",
       "0       Thông tin “Ngọc Trinh mua đất ở Bảo Lộc\" chỉ l...   \n",
       "1       Lỗ hổng trong việc thẩm tra năng lực tài chính...   \n",
       "2       Sớm hoàn thiện các dự án nhà ở xã hội để CNLĐ ...   \n",
       "3                 Chi tiết hồ sơ hoàn công nhà ở năm 2022   \n",
       "4       Khởi tạo không gian sống đẳng cấp, đón sóng đầ...   \n",
       "...                                                   ...   \n",
       "313315  Bà lão mù nuôi con, cháu bị ảnh hưởng chất độc...   \n",
       "313316            Trao 100 triệu đồng cho ngư dân Phú Yên   \n",
       "313317  Trao 2 “Mái ấm công đoàn” tới CNVCLĐ khó khăn ...   \n",
       "313318              Hãy giúp đỡ một nhà báo cần thay thận   \n",
       "313319  “Người đàn bà quỷ ám” ở Quảng Trị đã được nuôi...   \n",
       "\n",
       "                                                  Summary  \\\n",
       "0       Lâm Đồng - Lãnh đạo thành phố Bảo Lộc, Lâm Đồn...   \n",
       "1       TPHCM - Việc không thể cưỡng chế thuế của hai ...   \n",
       "2       Hiện trên địa bàn tỉnh Ninh Bình có 32 khu, cụ...   \n",
       "3       Hoàn công nhà ở với ý nghĩa là điều kiện để đư...   \n",
       "4       Có rất nhiều lý do khiến những dự án thấp nội ...   \n",
       "...                                                   ...   \n",
       "313315  Bà Dương Thị Tuyết ở thị trấn Khe Sanh, huyện ...   \n",
       "313316  Ngày 25.7, Đại diện Chương trình “Tấm lưới ngh...   \n",
       "313317  Ngày 17.7, lãnh đạo Quỹ TLV Lao Động và LĐLĐ t...   \n",
       "313318  Nhà báo Trần Đình Chính (tức Trần Hoài Thu) - ...   \n",
       "313319  Ngày 2.6, khi nhận được số tiền 500.000 đồng đ...   \n",
       "\n",
       "                                                 Contents  \\\n",
       "0       Những ngày vừa qua, trên trang Facebook chính ...   \n",
       "1       Theo thông tin từ Cục Thuế TP.HCM, hiện cơ qua...   \n",
       "2       CNLĐ mong muốn sớm được tiếp cận với nhà ở xã ...   \n",
       "3       Hoàn công nhà ở là một thủ tục hành chính tron...   \n",
       "4       Đi dọc đường Lê Văn Lương kéo dài xuống khu Dư...   \n",
       "...                                                   ...   \n",
       "313315                                                NaN   \n",
       "313316                                                NaN   \n",
       "313317                                                NaN   \n",
       "313318                                                NaN   \n",
       "313319                                                NaN   \n",
       "\n",
       "                                      Date               Author(s)  \\\n",
       "0        Thứ sáu, 20/05/2022 08:56 (GMT+7)            Phương Nhiên   \n",
       "1        Thứ sáu, 20/05/2022 08:10 (GMT+7)                Gia Miêu   \n",
       "2        Thứ sáu, 20/05/2022 07:47 (GMT+7)           NGUYỄN TRƯỜNG   \n",
       "3        Thứ sáu, 20/05/2022 06:44 (GMT+7)         Kim Nhung (T/H)   \n",
       "4        Thứ năm, 19/05/2022 15:30 (GMT+7)            Huyền Nguyễn   \n",
       "...                                    ...                     ...   \n",
       "313315    Thứ tư, 14/08/2013 06:57 (GMT+7)            Lâm Hưng Thơ   \n",
       "313316   Thứ sáu, 26/07/2013 09:03 (GMT+7)               Lưu Phong   \n",
       "313317   Thứ năm, 18/07/2013 07:37 (GMT+7)                 Bảo Duy   \n",
       "313318   Thứ năm, 20/06/2013 07:28 (GMT+7)  Hoàng Mạnh - Phạm Tùng   \n",
       "313319  Chủ nhật, 16/06/2013 19:42 (GMT+7)      Đình Văn - Bảo Duy   \n",
       "\n",
       "             Category                                               Tags  \n",
       "0        Bất động sản  ['Lâm Đồng', 'Ngọc Trinh', 'Chiêu trò', 'Giá đ...  \n",
       "1        Bất động sản                       ['Thủ Thiêm', 'Đấu giá đất']  \n",
       "2        Bất động sản  ['Dự án', 'Nhà ở xã hội', 'Dự án nhà ở xã hội'...  \n",
       "3        Bất động sản  ['Giấy phép xây dựng', 'Hồ sơ hoàn công', 'nhà...  \n",
       "4        Bất động sản                                   ['An Quý Villa']  \n",
       "...               ...                                                ...  \n",
       "313315  Tấm Lòng Vàng                                       ['Chất độc']  \n",
       "313316  Tin hoạt động                                        ['Phú Yên']  \n",
       "313317  Tin hoạt động                  ['Mái ấm Công đoàn', 'Bắc Giang']  \n",
       "313318  Tấm Lòng Vàng                                 ['Nhà báo', 'Báo']  \n",
       "313319        Quỹ TLV                                      ['Quảng Trị']  \n",
       "\n",
       "[313320 rows x 9 columns]"
      ]
     },
     "execution_count": 12,
     "metadata": {},
     "output_type": "execute_result"
    }
   ],
   "source": [
    "df"
   ]
  },
  {
   "cell_type": "code",
   "execution_count": null,
   "id": "963626ec-9c3d-4585-9ef4-fff90116d4b9",
   "metadata": {},
   "outputs": [],
   "source": []
  }
 ],
 "metadata": {
  "kernelspec": {
   "display_name": "Python 3 (ipykernel)",
   "language": "python",
   "name": "python3"
  },
  "language_info": {
   "codemirror_mode": {
    "name": "ipython",
    "version": 3
   },
   "file_extension": ".py",
   "mimetype": "text/x-python",
   "name": "python",
   "nbconvert_exporter": "python",
   "pygments_lexer": "ipython3",
   "version": "3.7.10"
  }
 },
 "nbformat": 4,
 "nbformat_minor": 5
}
